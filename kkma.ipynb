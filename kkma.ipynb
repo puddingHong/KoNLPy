{
 "cells": [
  {
   "cell_type": "markdown",
   "id": "9e463698",
   "metadata": {},
   "source": [
    "# 데이터 로드"
   ]
  },
  {
   "cell_type": "code",
   "execution_count": 1,
   "id": "b2e3f523",
   "metadata": {
    "ExecuteTime": {
     "end_time": "2022-01-29T08:49:58.251568Z",
     "start_time": "2022-01-29T08:49:53.848342Z"
    }
   },
   "outputs": [],
   "source": [
    "import pandas as pd\n",
    "import numpy as np\n",
    "import re"
   ]
  },
  {
   "cell_type": "code",
   "execution_count": 2,
   "id": "57f0e521",
   "metadata": {
    "ExecuteTime": {
     "end_time": "2022-01-29T08:49:58.550769Z",
     "start_time": "2022-01-29T08:49:58.256555Z"
    },
    "scrolled": true
   },
   "outputs": [
    {
     "data": {
      "text/html": [
       "<div>\n",
       "<style scoped>\n",
       "    .dataframe tbody tr th:only-of-type {\n",
       "        vertical-align: middle;\n",
       "    }\n",
       "\n",
       "    .dataframe tbody tr th {\n",
       "        vertical-align: top;\n",
       "    }\n",
       "\n",
       "    .dataframe thead th {\n",
       "        text-align: right;\n",
       "    }\n",
       "</style>\n",
       "<table border=\"1\" class=\"dataframe\">\n",
       "  <thead>\n",
       "    <tr style=\"text-align: right;\">\n",
       "      <th></th>\n",
       "      <th>score</th>\n",
       "      <th>review</th>\n",
       "    </tr>\n",
       "  </thead>\n",
       "  <tbody>\n",
       "    <tr>\n",
       "      <th>0</th>\n",
       "      <td>1</td>\n",
       "      <td>최악의 쓰레기 영화</td>\n",
       "    </tr>\n",
       "    <tr>\n",
       "      <th>1</th>\n",
       "      <td>1</td>\n",
       "      <td>나를 화나게 만든영화</td>\n",
       "    </tr>\n",
       "    <tr>\n",
       "      <th>2</th>\n",
       "      <td>1</td>\n",
       "      <td>10점주는새끼들 뇌없냐 개념밥말나먹엇네 알바들은존나부끄럽지도않나 돈에영혼끼지팔놈들ㅉ...</td>\n",
       "    </tr>\n",
       "    <tr>\n",
       "      <th>3</th>\n",
       "      <td>1</td>\n",
       "      <td>감독님 그동안 무슨일이 있으셨던거에요? 이건 냉동캡슐에 있다 지금 깨어났다고 해도 ...</td>\n",
       "    </tr>\n",
       "    <tr>\n",
       "      <th>4</th>\n",
       "      <td>1</td>\n",
       "      <td>감독아 양심껏좀 살자!! 주겨버릴까!!</td>\n",
       "    </tr>\n",
       "    <tr>\n",
       "      <th>...</th>\n",
       "      <td>...</td>\n",
       "      <td>...</td>\n",
       "    </tr>\n",
       "    <tr>\n",
       "      <th>5666</th>\n",
       "      <td>5</td>\n",
       "      <td>그냥저냥 킬링타임용 근데 이성경이 유해진좋아하는건 너무 막장</td>\n",
       "    </tr>\n",
       "    <tr>\n",
       "      <th>5667</th>\n",
       "      <td>3</td>\n",
       "      <td>난 진짜 이성경 떔에 봤다 너무 매력적이야 ㅋㅋㅋ</td>\n",
       "    </tr>\n",
       "    <tr>\n",
       "      <th>5668</th>\n",
       "      <td>3</td>\n",
       "      <td>스무살이 좋은 철없는 꼰대들(감독 포함 작가들)의 자기만족 스토리텔링</td>\n",
       "    </tr>\n",
       "    <tr>\n",
       "      <th>5669</th>\n",
       "      <td>4</td>\n",
       "      <td>민감한 중년 로맨스를 그릴거면 제대로 그리던가 이도저도 아님</td>\n",
       "    </tr>\n",
       "    <tr>\n",
       "      <th>5670</th>\n",
       "      <td>5</td>\n",
       "      <td>별점 5점은 이성경 때문에 준거임..막무가내...중구난방... 제목은 레슬러인데.....</td>\n",
       "    </tr>\n",
       "  </tbody>\n",
       "</table>\n",
       "<p>5671 rows × 2 columns</p>\n",
       "</div>"
      ],
      "text/plain": [
       "      score                                             review\n",
       "0         1                                         최악의 쓰레기 영화\n",
       "1         1                                        나를 화나게 만든영화\n",
       "2         1  10점주는새끼들 뇌없냐 개념밥말나먹엇네 알바들은존나부끄럽지도않나 돈에영혼끼지팔놈들ㅉ...\n",
       "3         1  감독님 그동안 무슨일이 있으셨던거에요? 이건 냉동캡슐에 있다 지금 깨어났다고 해도 ...\n",
       "4         1                              감독아 양심껏좀 살자!! 주겨버릴까!!\n",
       "...     ...                                                ...\n",
       "5666      5                  그냥저냥 킬링타임용 근데 이성경이 유해진좋아하는건 너무 막장\n",
       "5667      3                        난 진짜 이성경 떔에 봤다 너무 매력적이야 ㅋㅋㅋ\n",
       "5668      3             스무살이 좋은 철없는 꼰대들(감독 포함 작가들)의 자기만족 스토리텔링\n",
       "5669      4                  민감한 중년 로맨스를 그릴거면 제대로 그리던가 이도저도 아님\n",
       "5670      5  별점 5점은 이성경 때문에 준거임..막무가내...중구난방... 제목은 레슬러인데.....\n",
       "\n",
       "[5671 rows x 2 columns]"
      ]
     },
     "execution_count": 2,
     "metadata": {},
     "output_type": "execute_result"
    }
   ],
   "source": [
    "df = pd.read_csv('./new_data.csv', encoding = 'CP949', engine = 'python')\n",
    "df"
   ]
  },
  {
   "cell_type": "markdown",
   "id": "d1beb202",
   "metadata": {},
   "source": [
    "# 데이터 정제"
   ]
  },
  {
   "cell_type": "code",
   "execution_count": 3,
   "id": "a92e9005",
   "metadata": {
    "ExecuteTime": {
     "end_time": "2022-01-29T08:49:58.631553Z",
     "start_time": "2022-01-29T08:49:58.562738Z"
    }
   },
   "outputs": [
    {
     "name": "stderr",
     "output_type": "stream",
     "text": [
      "C:\\Users\\user\\AppData\\Local\\Temp/ipykernel_10008/1515878519.py:2: FutureWarning: The default value of regex will change from True to False in a future version.\n",
      "  df['review']=df['review'].str.replace(r'[^ ㄱ-ㅣ가-힣]+', \" \")\n"
     ]
    },
    {
     "data": {
      "text/plain": [
       "0                                           최악의 쓰레기 영화\n",
       "1                                          나를 화나게 만든영화\n",
       "2     점주는새끼들 뇌없냐 개념밥말나먹엇네 알바들은존나부끄럽지도않나 돈에영혼끼지팔놈들ㅉㅉ...\n",
       "3    감독님 그동안 무슨일이 있으셨던거에요  이건 냉동캡슐에 있다 지금 깨어났다고 해도 ...\n",
       "4                                  감독아 양심껏좀 살자  주겨버릴까 \n",
       "Name: review, dtype: object"
      ]
     },
     "execution_count": 3,
     "metadata": {},
     "output_type": "execute_result"
    }
   ],
   "source": [
    "# 특수문자 제거\n",
    "df['review']=df['review'].str.replace(r'[^ ㄱ-ㅣ가-힣]+', \" \")\n",
    "df['review'].head()"
   ]
  },
  {
   "cell_type": "code",
   "execution_count": 4,
   "id": "f1c7b623",
   "metadata": {
    "ExecuteTime": {
     "end_time": "2022-01-29T08:49:58.740264Z",
     "start_time": "2022-01-29T08:49:58.644518Z"
    }
   },
   "outputs": [
    {
     "name": "stderr",
     "output_type": "stream",
     "text": [
      "C:\\Users\\user\\AppData\\Local\\Temp/ipykernel_10008/2893747123.py:2: FutureWarning: The default value of regex will change from True to False in a future version.\n",
      "  df['review'] = df['review'].str.replace('^ +','')\n"
     ]
    },
    {
     "data": {
      "text/plain": [
       "score      0\n",
       "review    13\n",
       "dtype: int64"
      ]
     },
     "execution_count": 4,
     "metadata": {},
     "output_type": "execute_result"
    }
   ],
   "source": [
    "# 공백만 남은 데이터 nan으로 처리\n",
    "df['review'] = df['review'].str.replace('^ +','')\n",
    "df['review'].replace('',np.nan, inplace = True)\n",
    "df.isnull().sum()"
   ]
  },
  {
   "cell_type": "code",
   "execution_count": 5,
   "id": "a6f8249d",
   "metadata": {
    "ExecuteTime": {
     "end_time": "2022-01-29T08:49:58.770182Z",
     "start_time": "2022-01-29T08:49:58.746247Z"
    }
   },
   "outputs": [
    {
     "data": {
      "text/plain": [
       "5658"
      ]
     },
     "execution_count": 5,
     "metadata": {},
     "output_type": "execute_result"
    }
   ],
   "source": [
    "# nan 삭제\n",
    "df = df.dropna(how='any')\n",
    "len(df)"
   ]
  },
  {
   "cell_type": "code",
   "execution_count": 6,
   "id": "b59f9503",
   "metadata": {
    "ExecuteTime": {
     "end_time": "2022-01-29T08:50:11.234855Z",
     "start_time": "2022-01-29T08:49:58.778160Z"
    }
   },
   "outputs": [
    {
     "data": {
      "text/plain": [
       "<AxesSubplot:>"
      ]
     },
     "execution_count": 6,
     "metadata": {},
     "output_type": "execute_result"
    },
    {
     "data": {
      "image/png": "[encoded data removed]",
      "text/plain": [
       "<Figure size 432x288 with 1 Axes>"
      ]
     },
     "metadata": {
      "needs_background": "light"
     },
     "output_type": "display_data"
    }
   ],
   "source": [
    "df['score'].value_counts().plot(kind='bar')"
   ]
  },
  {
   "cell_type": "markdown",
   "id": "b931e3d3",
   "metadata": {},
   "source": [
    "# 불용어 처리"
   ]
  },
  {
   "cell_type": "code",
   "execution_count": 7,
   "id": "35b16806",
   "metadata": {
    "ExecuteTime": {
     "end_time": "2022-01-29T08:50:11.280733Z",
     "start_time": "2022-01-29T08:50:11.253804Z"
    }
   },
   "outputs": [
    {
     "data": {
      "text/plain": [
       "5658"
      ]
     },
     "execution_count": 7,
     "metadata": {},
     "output_type": "execute_result"
    }
   ],
   "source": [
    "x_data = df['review']\n",
    "len(x_data)"
   ]
  },
  {
   "cell_type": "code",
   "execution_count": 8,
   "id": "5f9af6c9",
   "metadata": {
    "ExecuteTime": {
     "end_time": "2022-01-29T08:50:11.312647Z",
     "start_time": "2022-01-29T08:50:11.285721Z"
    },
    "scrolled": true
   },
   "outputs": [
    {
     "data": {
      "text/plain": [
       "5658"
      ]
     },
     "execution_count": 8,
     "metadata": {},
     "output_type": "execute_result"
    }
   ],
   "source": [
    "y_data = df['score']\n",
    "len(y_data)"
   ]
  },
  {
   "cell_type": "code",
   "execution_count": 9,
   "id": "fe2d93c6",
   "metadata": {
    "ExecuteTime": {
     "end_time": "2022-01-29T08:50:11.345559Z",
     "start_time": "2022-01-29T08:50:11.327610Z"
    }
   },
   "outputs": [],
   "source": [
    "# 불용어 파일\n",
    "stop = pd.read_csv('./한국어불용어100.txt', sep = '\\t', encoding = 'utf-8')"
   ]
  },
  {
   "cell_type": "code",
   "execution_count": 10,
   "id": "58e9b6d4",
   "metadata": {
    "ExecuteTime": {
     "end_time": "2022-01-29T08:50:11.421359Z",
     "start_time": "2022-01-29T08:50:11.363514Z"
    },
    "scrolled": true
   },
   "outputs": [
    {
     "data": {
      "text/html": [
       "<div>\n",
       "<style scoped>\n",
       "    .dataframe tbody tr th:only-of-type {\n",
       "        vertical-align: middle;\n",
       "    }\n",
       "\n",
       "    .dataframe tbody tr th {\n",
       "        vertical-align: top;\n",
       "    }\n",
       "\n",
       "    .dataframe thead th {\n",
       "        text-align: right;\n",
       "    }\n",
       "</style>\n",
       "<table border=\"1\" class=\"dataframe\">\n",
       "  <thead>\n",
       "    <tr style=\"text-align: right;\">\n",
       "      <th></th>\n",
       "      <th>불용어</th>\n",
       "      <th>구분</th>\n",
       "      <th>id</th>\n",
       "    </tr>\n",
       "  </thead>\n",
       "  <tbody>\n",
       "    <tr>\n",
       "      <th>0</th>\n",
       "      <td>이</td>\n",
       "      <td>VCP</td>\n",
       "      <td>0.018280</td>\n",
       "    </tr>\n",
       "    <tr>\n",
       "      <th>1</th>\n",
       "      <td>있</td>\n",
       "      <td>VA</td>\n",
       "      <td>0.011699</td>\n",
       "    </tr>\n",
       "    <tr>\n",
       "      <th>2</th>\n",
       "      <td>하</td>\n",
       "      <td>VV</td>\n",
       "      <td>0.009774</td>\n",
       "    </tr>\n",
       "    <tr>\n",
       "      <th>3</th>\n",
       "      <td>것</td>\n",
       "      <td>NNB</td>\n",
       "      <td>0.009733</td>\n",
       "    </tr>\n",
       "    <tr>\n",
       "      <th>4</th>\n",
       "      <td>들</td>\n",
       "      <td>XSN</td>\n",
       "      <td>0.006898</td>\n",
       "    </tr>\n",
       "    <tr>\n",
       "      <th>...</th>\n",
       "      <td>...</td>\n",
       "      <td>...</td>\n",
       "      <td>...</td>\n",
       "    </tr>\n",
       "    <tr>\n",
       "      <th>95</th>\n",
       "      <td>원</td>\n",
       "      <td>NNB</td>\n",
       "      <td>0.000492</td>\n",
       "    </tr>\n",
       "    <tr>\n",
       "      <th>96</th>\n",
       "      <td>잘</td>\n",
       "      <td>MAG</td>\n",
       "      <td>0.000491</td>\n",
       "    </tr>\n",
       "    <tr>\n",
       "      <th>97</th>\n",
       "      <td>통하</td>\n",
       "      <td>VV</td>\n",
       "      <td>0.000487</td>\n",
       "    </tr>\n",
       "    <tr>\n",
       "      <th>98</th>\n",
       "      <td>소리</td>\n",
       "      <td>NNG</td>\n",
       "      <td>0.000486</td>\n",
       "    </tr>\n",
       "    <tr>\n",
       "      <th>99</th>\n",
       "      <td>놓</td>\n",
       "      <td>VX</td>\n",
       "      <td>0.000483</td>\n",
       "    </tr>\n",
       "  </tbody>\n",
       "</table>\n",
       "<p>100 rows × 3 columns</p>\n",
       "</div>"
      ],
      "text/plain": [
       "   불용어   구분        id\n",
       "0    이  VCP  0.018280\n",
       "1    있   VA  0.011699\n",
       "2    하   VV  0.009774\n",
       "3    것  NNB  0.009733\n",
       "4    들  XSN  0.006898\n",
       "..  ..  ...       ...\n",
       "95   원  NNB  0.000492\n",
       "96   잘  MAG  0.000491\n",
       "97  통하   VV  0.000487\n",
       "98  소리  NNG  0.000486\n",
       "99   놓   VX  0.000483\n",
       "\n",
       "[100 rows x 3 columns]"
      ]
     },
     "execution_count": 10,
     "metadata": {},
     "output_type": "execute_result"
    }
   ],
   "source": [
    "stop"
   ]
  },
  {
   "cell_type": "code",
   "execution_count": 11,
   "id": "1481c941",
   "metadata": {
    "ExecuteTime": {
     "end_time": "2022-01-29T08:50:11.454268Z",
     "start_time": "2022-01-29T08:50:11.428340Z"
    }
   },
   "outputs": [],
   "source": [
    "# 불용어 리스트 생성\n",
    "stopword = stop['불용어'].tolist()"
   ]
  },
  {
   "cell_type": "code",
   "execution_count": 12,
   "id": "0e53680e",
   "metadata": {
    "ExecuteTime": {
     "end_time": "2022-01-29T08:50:17.688598Z",
     "start_time": "2022-01-29T08:50:11.461250Z"
    }
   },
   "outputs": [],
   "source": [
    "from konlpy.tag import Kkma\n",
    "kkma = Kkma()"
   ]
  },
  {
   "cell_type": "code",
   "execution_count": null,
   "id": "fa670245",
   "metadata": {
    "ExecuteTime": {
     "start_time": "2022-01-29T08:49:59.915Z"
    }
   },
   "outputs": [],
   "source": [
    "x_word = []\n",
    "for x in x_data:\n",
    "    word_tokens = kkma.morphs(x)    \n",
    "    result = [word for word in word_tokens if not word in stopword]\n",
    "    x_word.append(result)\n",
    "    \n",
    "x_word"
   ]
  },
  {
   "cell_type": "markdown",
   "id": "f3ba6d9f",
   "metadata": {},
   "source": [
    "# 정수 인코딩"
   ]
  },
  {
   "cell_type": "code",
   "execution_count": null,
   "id": "105832a3",
   "metadata": {
    "ExecuteTime": {
     "start_time": "2022-01-29T08:50:00.428Z"
    }
   },
   "outputs": [],
   "source": [
    "from keras.preprocessing.text import Tokenizer "
   ]
  },
  {
   "cell_type": "code",
   "execution_count": null,
   "id": "f2266846",
   "metadata": {
    "ExecuteTime": {
     "start_time": "2022-01-29T08:50:01.329Z"
    }
   },
   "outputs": [],
   "source": [
    "# 토큰화\n",
    "tokenizer = Tokenizer() \n",
    "tokenizer.fit_on_texts(x_word) \n",
    "sequences = tokenizer.texts_to_sequences(x_word)\n",
    "sequences"
   ]
  },
  {
   "cell_type": "code",
   "execution_count": null,
   "id": "9da19aa4",
   "metadata": {
    "ExecuteTime": {
     "start_time": "2022-01-29T08:50:01.517Z"
    }
   },
   "outputs": [],
   "source": [
    "word_index = tokenizer.word_index\n",
    "word_index"
   ]
  },
  {
   "cell_type": "code",
   "execution_count": null,
   "id": "280e3b4c",
   "metadata": {
    "ExecuteTime": {
     "start_time": "2022-01-29T08:50:01.699Z"
    }
   },
   "outputs": [],
   "source": [
    "vocab_size = len(word_index)\n",
    "vocab_size"
   ]
  },
  {
   "cell_type": "markdown",
   "id": "646a4e60",
   "metadata": {},
   "source": [
    "# 패딩\n",
    "\n",
    "서로 다른 샘플 길이 맞춤"
   ]
  },
  {
   "cell_type": "code",
   "execution_count": null,
   "id": "05076add",
   "metadata": {
    "ExecuteTime": {
     "start_time": "2022-01-29T08:50:02.200Z"
    }
   },
   "outputs": [],
   "source": [
    "import matplotlib.pyplot as plt"
   ]
  },
  {
   "cell_type": "code",
   "execution_count": null,
   "id": "83ae976e",
   "metadata": {
    "ExecuteTime": {
     "start_time": "2022-01-29T08:50:02.375Z"
    }
   },
   "outputs": [],
   "source": [
    "TextMAX = max(len(l) for l in sequences)"
   ]
  },
  {
   "cell_type": "code",
   "execution_count": null,
   "id": "9a34bbfd",
   "metadata": {
    "ExecuteTime": {
     "start_time": "2022-01-29T08:50:02.597Z"
    }
   },
   "outputs": [],
   "source": [
    "print('리뷰 최대 길이 : {}'.format(max(len(l) for l in x_data))) \n",
    "print('리뷰 평균 길이 : {}'.format(sum(map(len, x_data)) / len(x_data)))\n",
    "plt.hist([len(s) for s in x_data], bins=50) \n",
    "plt.xlabel('length of Data')\n",
    "plt.ylabel('number of Data')\n",
    "plt.show()"
   ]
  },
  {
   "cell_type": "code",
   "execution_count": null,
   "id": "8b059540",
   "metadata": {
    "ExecuteTime": {
     "start_time": "2022-01-29T08:50:02.793Z"
    }
   },
   "outputs": [],
   "source": [
    "from tensorflow.keras.preprocessing import sequence\n",
    "from tensorflow.keras import utils\n",
    "from keras.utils import np_utils"
   ]
  },
  {
   "cell_type": "code",
   "execution_count": null,
   "id": "d2a80e1e",
   "metadata": {
    "ExecuteTime": {
     "start_time": "2022-01-29T08:50:03.029Z"
    }
   },
   "outputs": [],
   "source": [
    "max_len = TextMAX\n",
    "x_data = sequence.pad_sequences(sequences, maxlen = max_len)\n",
    "y_data = np_utils.to_categorical(y_data)"
   ]
  },
  {
   "cell_type": "code",
   "execution_count": null,
   "id": "dda45a10",
   "metadata": {
    "ExecuteTime": {
     "start_time": "2022-01-29T08:50:03.240Z"
    }
   },
   "outputs": [],
   "source": [
    "x_data"
   ]
  },
  {
   "cell_type": "code",
   "execution_count": null,
   "id": "bd5971db",
   "metadata": {
    "ExecuteTime": {
     "start_time": "2022-01-29T08:50:03.657Z"
    }
   },
   "outputs": [],
   "source": [
    "y_data"
   ]
  },
  {
   "cell_type": "code",
   "execution_count": null,
   "id": "c361e5ba",
   "metadata": {
    "ExecuteTime": {
     "start_time": "2022-01-29T08:50:06.540Z"
    }
   },
   "outputs": [],
   "source": [
    "textlen = len(x_data[0])"
   ]
  },
  {
   "cell_type": "code",
   "execution_count": null,
   "id": "c8bf2e7b",
   "metadata": {
    "ExecuteTime": {
     "start_time": "2022-01-29T08:50:06.671Z"
    }
   },
   "outputs": [],
   "source": [
    "print(x_data.shape)\n",
    "print(y_data.shape)"
   ]
  },
  {
   "cell_type": "code",
   "execution_count": null,
   "id": "5f169475",
   "metadata": {
    "ExecuteTime": {
     "start_time": "2022-01-29T08:50:06.885Z"
    }
   },
   "outputs": [],
   "source": [
    "y_data = np.delete(y_data,0,axis =1)"
   ]
  },
  {
   "cell_type": "code",
   "execution_count": null,
   "id": "d07b45f1",
   "metadata": {
    "ExecuteTime": {
     "start_time": "2022-01-29T08:50:07.078Z"
    }
   },
   "outputs": [],
   "source": [
    "print(x_data.shape)\n",
    "print(y_data.shape)"
   ]
  },
  {
   "cell_type": "code",
   "execution_count": null,
   "id": "7c301db0",
   "metadata": {
    "ExecuteTime": {
     "start_time": "2022-01-29T08:50:07.407Z"
    }
   },
   "outputs": [],
   "source": [
    "from sklearn.model_selection import train_test_split"
   ]
  },
  {
   "cell_type": "code",
   "execution_count": null,
   "id": "ed74ac8a",
   "metadata": {
    "ExecuteTime": {
     "start_time": "2022-01-29T08:50:07.580Z"
    }
   },
   "outputs": [],
   "source": [
    "X_train,X_test, y_train, y_test = train_test_split(x_data, y_data, test_size = 0.3, random_state = 1)\n",
    "print(X_train.shape, X_test.shape, y_train.shape, y_test.shape)"
   ]
  },
  {
   "cell_type": "code",
   "execution_count": null,
   "id": "87a8b3ce",
   "metadata": {
    "ExecuteTime": {
     "start_time": "2022-01-29T08:50:07.777Z"
    }
   },
   "outputs": [],
   "source": [
    "train_x = np.asarray(X_train)\n",
    "train_y = np.asarray(y_train)\n",
    "validation_x = np.asarray(X_test)\n",
    "validation_y = np.asarray(y_test)"
   ]
  },
  {
   "cell_type": "markdown",
   "id": "a99a7709",
   "metadata": {},
   "source": [
    "# 모델"
   ]
  },
  {
   "cell_type": "code",
   "execution_count": null,
   "id": "3b7d0294",
   "metadata": {
    "ExecuteTime": {
     "start_time": "2022-01-29T08:50:08.377Z"
    }
   },
   "outputs": [],
   "source": [
    "# GRU 모델\n",
    "import re\n",
    "from tensorflow.keras.datasets import imdb\n",
    "from tensorflow.keras.models import Sequential\n",
    "from tensorflow.keras.layers import Dense, GRU, Embedding\n",
    "\n",
    "\n",
    "hidden_units = 512\n",
    "\n",
    "\n",
    "model = Sequential()\n",
    "model.add(Embedding(vocab_size +1, textlen))\n",
    "model.add(GRU(hidden_units))\n",
    "model.add(Dense(10, activation='softmax'))\n",
    "\n",
    "model.compile(optimizer='rmsprop', loss='categorical_crossentropy', metrics=['accuracy'])\n",
    "history = model.fit(train_x, train_y, epochs=10, batch_size = 30,\n",
    "                   validation_data=(validation_x,validation_y))"
   ]
  },
  {
   "cell_type": "code",
   "execution_count": null,
   "id": "7c9c61e3",
   "metadata": {
    "ExecuteTime": {
     "start_time": "2022-01-29T08:50:08.706Z"
    },
    "scrolled": true
   },
   "outputs": [],
   "source": [
    "import matplotlib.pyplot as plt\n",
    "\n",
    "train_history = history.history[\"loss\"]\n",
    "validate_history = history.history[\"val_loss\"]\n",
    "fig = plt.figure(figsize = (5,5))\n",
    "plt.title(\"loss history\")\n",
    "plt.xlabel(\"EPOCH\")\n",
    "plt.ylabel(\"LOSS Function\")\n",
    "plt.plot(train_history, \"red\", label = 'train')\n",
    "plt.plot(validate_history,\"blue\", label = 'val')\n",
    "plt.legend()\n",
    "plt.show()\n",
    "\n",
    "train_history = history.history[\"accuracy\"]\n",
    "validate_history = history.history[\"val_accuracy\"]\n",
    "fig = plt.figure(figsize = (5,5))\n",
    "plt.title(\"accuracy history\")\n",
    "plt.xlabel(\"EPOCH\")\n",
    "plt.ylabel(\"accuracy function\")\n",
    "plt.plot(train_history, \"red\", label = 'train')\n",
    "plt.plot(validate_history,\"blue\", label = 'val')\n",
    "plt.legend()\n",
    "plt.show()"
   ]
  }
 ],
 "metadata": {
  "kernelspec": {
   "display_name": "Python 3 (ipykernel)",
   "language": "python",
   "name": "python3"
  },
  "language_info": {
   "codemirror_mode": {
    "name": "ipython",
    "version": 3
   },
   "file_extension": ".py",
   "mimetype": "text/x-python",
   "name": "python",
   "nbconvert_exporter": "python",
   "pygments_lexer": "ipython3",
   "version": "3.8.12"
  },
  "toc": {
   "base_numbering": 1,
   "nav_menu": {},
   "number_sections": true,
   "sideBar": true,
   "skip_h1_title": false,
   "title_cell": "Table of Contents",
   "title_sidebar": "Contents",
   "toc_cell": false,
   "toc_position": {},
   "toc_section_display": true,
   "toc_window_display": false
  }
 },
 "nbformat": 4,
 "nbformat_minor": 5
}
