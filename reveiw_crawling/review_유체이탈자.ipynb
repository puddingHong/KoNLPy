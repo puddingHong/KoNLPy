{
 "cells": [
  {
   "cell_type": "code",
   "execution_count": 2,
   "id": "d1933d52",
   "metadata": {},
   "outputs": [],
   "source": [
    "import requests as req\n",
    "from bs4 import BeautifulSoup as bs\n",
    "import pandas as pd"
   ]
  },
  {
   "cell_type": "code",
   "execution_count": 3,
   "id": "7bf08e27",
   "metadata": {},
   "outputs": [],
   "source": [
    "reple_list = []\n",
    "score_list = []\n",
    "for page in range(1, 101) :\n",
    "    \n",
    "    url ='https://movie.naver.com/movie/bi/mi/pointWriteFormList.naver?code=182362&type=after&onlyActualPointYn=N&onlySpoilerPointYn=N&order=newest&page='+str(page)\n",
    "    res = req.get(url)\n",
    "    soup = bs(res.text, 'lxml')\n",
    "    \n",
    "    # 댓글 영역 선택\n",
    "    reples = soup.select('div.score_reple > p')\n",
    "    \n",
    "    # 평점 영역 선택\n",
    "    scores = soup.select('div.star_score > em')\n",
    "    \n",
    "    # 관람객 선택, 제거\n",
    "    icon = soup.select('span.ico_viewer')\n",
    "    for viewer in icon:\n",
    "        viewer.extract()  \n",
    "        \n",
    "    # 스포일러 텍스트 선택, 제거\n",
    "    spo = soup.select('span.text_spo')\n",
    "    for spo_text in spo:\n",
    "        spo_text.extract()\n",
    "    \n",
    "    for reple in reples:\n",
    "        reple_list.append(reple.text.strip())\n",
    "        \n",
    "    for score in scores:\n",
    "        score_list.append(score.text.strip())"
   ]
  },
  {
   "cell_type": "code",
   "execution_count": 4,
   "id": "38468372",
   "metadata": {},
   "outputs": [],
   "source": [
    "info = { 'score' : score_list, 'review' : reple_list}"
   ]
  },
  {
   "cell_type": "code",
   "execution_count": 5,
   "id": "f2d330a6",
   "metadata": {},
   "outputs": [],
   "source": [
    "df = pd.DataFrame(info)"
   ]
  },
  {
   "cell_type": "code",
   "execution_count": 6,
   "id": "e86235f2",
   "metadata": {},
   "outputs": [
    {
     "data": {
      "text/html": [
       "<div>\n",
       "<style scoped>\n",
       "    .dataframe tbody tr th:only-of-type {\n",
       "        vertical-align: middle;\n",
       "    }\n",
       "\n",
       "    .dataframe tbody tr th {\n",
       "        vertical-align: top;\n",
       "    }\n",
       "\n",
       "    .dataframe thead th {\n",
       "        text-align: right;\n",
       "    }\n",
       "</style>\n",
       "<table border=\"1\" class=\"dataframe\">\n",
       "  <thead>\n",
       "    <tr style=\"text-align: right;\">\n",
       "      <th></th>\n",
       "      <th>score</th>\n",
       "      <th>review</th>\n",
       "    </tr>\n",
       "  </thead>\n",
       "  <tbody>\n",
       "    <tr>\n",
       "      <th>0</th>\n",
       "      <td>10</td>\n",
       "      <td>굿</td>\n",
       "    </tr>\n",
       "    <tr>\n",
       "      <th>1</th>\n",
       "      <td>1</td>\n",
       "      <td>유체만 이탈한 게 아니라 연기력도 이탈했네. 초반부터 발연기에 보기 너무 힘들었다.</td>\n",
       "    </tr>\n",
       "    <tr>\n",
       "      <th>2</th>\n",
       "      <td>8</td>\n",
       "      <td>윤계상과 연기등 액션을 시원하게 볼수있다</td>\n",
       "    </tr>\n",
       "    <tr>\n",
       "      <th>3</th>\n",
       "      <td>8</td>\n",
       "      <td>시간에따라 변하는 모습은 잼있었는데 같은편끼리 피튀기기는 소재와 마약은좀  아쉬웠네요</td>\n",
       "    </tr>\n",
       "    <tr>\n",
       "      <th>4</th>\n",
       "      <td>7</td>\n",
       "      <td>소재는 신선했으나 공감은 조금 부족했어요</td>\n",
       "    </tr>\n",
       "    <tr>\n",
       "      <th>...</th>\n",
       "      <td>...</td>\n",
       "      <td>...</td>\n",
       "    </tr>\n",
       "    <tr>\n",
       "      <th>995</th>\n",
       "      <td>10</td>\n",
       "      <td>간만에 돈 안아까운 영화였음 기대이상이었음</td>\n",
       "    </tr>\n",
       "    <tr>\n",
       "      <th>996</th>\n",
       "      <td>2</td>\n",
       "      <td>최악의 영화임 보지마세요</td>\n",
       "    </tr>\n",
       "    <tr>\n",
       "      <th>997</th>\n",
       "      <td>10</td>\n",
       "      <td>영화내용이 잘 접해보지못한 신선한 소재여서 지루할 틈이 없었구요 무엇보다 결말을 계...</td>\n",
       "    </tr>\n",
       "    <tr>\n",
       "      <th>998</th>\n",
       "      <td>8</td>\n",
       "      <td>기대에 비해선 별로 였으나 괜찮았음</td>\n",
       "    </tr>\n",
       "    <tr>\n",
       "      <th>999</th>\n",
       "      <td>8</td>\n",
       "      <td>초반 10분 압도적이나 중후반이 아쉬움</td>\n",
       "    </tr>\n",
       "  </tbody>\n",
       "</table>\n",
       "<p>1000 rows × 2 columns</p>\n",
       "</div>"
      ],
      "text/plain": [
       "    score                                             review\n",
       "0      10                                                  굿\n",
       "1       1     유체만 이탈한 게 아니라 연기력도 이탈했네. 초반부터 발연기에 보기 너무 힘들었다.\n",
       "2       8                             윤계상과 연기등 액션을 시원하게 볼수있다\n",
       "3       8    시간에따라 변하는 모습은 잼있었는데 같은편끼리 피튀기기는 소재와 마약은좀  아쉬웠네요\n",
       "4       7                             소재는 신선했으나 공감은 조금 부족했어요\n",
       "..    ...                                                ...\n",
       "995    10                            간만에 돈 안아까운 영화였음 기대이상이었음\n",
       "996     2                                      최악의 영화임 보지마세요\n",
       "997    10  영화내용이 잘 접해보지못한 신선한 소재여서 지루할 틈이 없었구요 무엇보다 결말을 계...\n",
       "998     8                                기대에 비해선 별로 였으나 괜찮았음\n",
       "999     8                              초반 10분 압도적이나 중후반이 아쉬움\n",
       "\n",
       "[1000 rows x 2 columns]"
      ]
     },
     "execution_count": 6,
     "metadata": {},
     "output_type": "execute_result"
    }
   ],
   "source": [
    "df"
   ]
  },
  {
   "cell_type": "code",
   "execution_count": 17,
   "id": "6f4ffcdf",
   "metadata": {},
   "outputs": [],
   "source": [
    "df.to_csv('review_4.csv', encoding = 'CP949', index = False)"
   ]
  },
  {
   "cell_type": "code",
   "execution_count": 7,
   "id": "3cbc390b",
   "metadata": {},
   "outputs": [
    {
     "data": {
      "text/plain": [
       "54"
      ]
     },
     "execution_count": 7,
     "metadata": {},
     "output_type": "execute_result"
    }
   ],
   "source": [
    "count = 0\n",
    "for x in df[\"score\"]:\n",
    "    if x=='1':\n",
    "        count+=1\n",
    "        \n",
    "count"
   ]
  },
  {
   "cell_type": "code",
   "execution_count": 8,
   "id": "d6a9bebe",
   "metadata": {},
   "outputs": [
    {
     "data": {
      "text/plain": [
       "71"
      ]
     },
     "execution_count": 8,
     "metadata": {},
     "output_type": "execute_result"
    }
   ],
   "source": [
    "count = 0\n",
    "for x in df[\"score\"]:\n",
    "    if x=='2':\n",
    "        count+=1\n",
    "        \n",
    "count"
   ]
  },
  {
   "cell_type": "code",
   "execution_count": 9,
   "id": "2f0f4b17",
   "metadata": {},
   "outputs": [
    {
     "data": {
      "text/plain": [
       "17"
      ]
     },
     "execution_count": 9,
     "metadata": {},
     "output_type": "execute_result"
    }
   ],
   "source": [
    "count = 0\n",
    "for x in df[\"score\"]:\n",
    "    if x=='3':\n",
    "        count+=1\n",
    "        \n",
    "count"
   ]
  },
  {
   "cell_type": "code",
   "execution_count": 10,
   "id": "978c7733",
   "metadata": {},
   "outputs": [
    {
     "data": {
      "text/plain": [
       "63"
      ]
     },
     "execution_count": 10,
     "metadata": {},
     "output_type": "execute_result"
    }
   ],
   "source": [
    "count = 0\n",
    "for x in df[\"score\"]:\n",
    "    if x=='4':\n",
    "        count+=1\n",
    "        \n",
    "count"
   ]
  },
  {
   "cell_type": "code",
   "execution_count": 11,
   "id": "ef52cfee",
   "metadata": {},
   "outputs": [
    {
     "data": {
      "text/plain": [
       "29"
      ]
     },
     "execution_count": 11,
     "metadata": {},
     "output_type": "execute_result"
    }
   ],
   "source": [
    "count = 0\n",
    "for x in df[\"score\"]:\n",
    "    if x=='5':\n",
    "        count+=1\n",
    "        \n",
    "count"
   ]
  },
  {
   "cell_type": "code",
   "execution_count": 12,
   "id": "56e26b63",
   "metadata": {},
   "outputs": [
    {
     "data": {
      "text/plain": [
       "107"
      ]
     },
     "execution_count": 12,
     "metadata": {},
     "output_type": "execute_result"
    }
   ],
   "source": [
    "count = 0\n",
    "for x in df[\"score\"]:\n",
    "    if x=='6':\n",
    "        count+=1\n",
    "        \n",
    "count"
   ]
  },
  {
   "cell_type": "code",
   "execution_count": 13,
   "id": "8808308a",
   "metadata": {},
   "outputs": [
    {
     "data": {
      "text/plain": [
       "101"
      ]
     },
     "execution_count": 13,
     "metadata": {},
     "output_type": "execute_result"
    }
   ],
   "source": [
    "count = 0\n",
    "for x in df[\"score\"]:\n",
    "    if x=='7':\n",
    "        count+=1\n",
    "        \n",
    "count"
   ]
  },
  {
   "cell_type": "code",
   "execution_count": 14,
   "id": "a476773f",
   "metadata": {},
   "outputs": [
    {
     "data": {
      "text/plain": [
       "171"
      ]
     },
     "execution_count": 14,
     "metadata": {},
     "output_type": "execute_result"
    }
   ],
   "source": [
    "count = 0\n",
    "for x in df[\"score\"]:\n",
    "    if x=='8':\n",
    "        count+=1\n",
    "        \n",
    "count"
   ]
  },
  {
   "cell_type": "code",
   "execution_count": 15,
   "id": "3d4b221c",
   "metadata": {},
   "outputs": [
    {
     "data": {
      "text/plain": [
       "61"
      ]
     },
     "execution_count": 15,
     "metadata": {},
     "output_type": "execute_result"
    }
   ],
   "source": [
    "count = 0\n",
    "for x in df[\"score\"]:\n",
    "    if x=='9':\n",
    "        count+=1\n",
    "        \n",
    "count"
   ]
  },
  {
   "cell_type": "code",
   "execution_count": 16,
   "id": "dc4f81e5",
   "metadata": {},
   "outputs": [
    {
     "data": {
      "text/plain": [
       "326"
      ]
     },
     "execution_count": 16,
     "metadata": {},
     "output_type": "execute_result"
    }
   ],
   "source": [
    "count = 0\n",
    "for x in df[\"score\"]:\n",
    "    if x=='10':\n",
    "        count+=1\n",
    "        \n",
    "count"
   ]
  },
  {
   "cell_type": "code",
   "execution_count": null,
   "id": "e3a42e52",
   "metadata": {},
   "outputs": [],
   "source": []
  }
 ],
 "metadata": {
  "kernelspec": {
   "display_name": "Python 3 (ipykernel)",
   "language": "python",
   "name": "python3"
  },
  "language_info": {
   "codemirror_mode": {
    "name": "ipython",
    "version": 3
   },
   "file_extension": ".py",
   "mimetype": "text/x-python",
   "name": "python",
   "nbconvert_exporter": "python",
   "pygments_lexer": "ipython3",
   "version": "3.8.12"
  },
  "toc": {
   "base_numbering": 1,
   "nav_menu": {},
   "number_sections": true,
   "sideBar": true,
   "skip_h1_title": false,
   "title_cell": "Table of Contents",
   "title_sidebar": "Contents",
   "toc_cell": false,
   "toc_position": {},
   "toc_section_display": true,
   "toc_window_display": false
  }
 },
 "nbformat": 4,
 "nbformat_minor": 5
}
