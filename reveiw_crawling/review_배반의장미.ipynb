{
 "cells": [
  {
   "cell_type": "code",
   "execution_count": 1,
   "id": "d1933d52",
   "metadata": {},
   "outputs": [],
   "source": [
    "import requests as req\n",
    "from bs4 import BeautifulSoup as bs\n",
    "import pandas as pd"
   ]
  },
  {
   "cell_type": "code",
   "execution_count": 16,
   "id": "27937b8c",
   "metadata": {},
   "outputs": [],
   "source": [
    "reple_list = []\n",
    "score_list = []\n",
    "for page in range(1, 101) :\n",
    "    \n",
    "    url ='https://movie.naver.com/movie/bi/mi/pointWriteFormList.naver?code=174807&type=after&onlyActualPointYn=N&onlySpoilerPointYn=N&order=newest&page='+str(page)\n",
    "    res = req.get(url)\n",
    "    soup = bs(res.text, 'lxml')\n",
    "    \n",
    "    # 댓글 영역 선택\n",
    "    reples = soup.select('div.score_reple > p')\n",
    "    \n",
    "    # 평점 영역 선택\n",
    "    scores = soup.select('div.star_score > em')\n",
    "    \n",
    "    # 관람객 선택, 제거\n",
    "    icon = soup.select('span.ico_viewer')\n",
    "    for viewer in icon:\n",
    "        viewer.extract()  \n",
    "        \n",
    "    # 스포일러 텍스트 선택, 제거\n",
    "    spo = soup.select('span.text_spo')\n",
    "    for spo_text in spo:\n",
    "        spo_text.extract()\n",
    "    \n",
    "    for reple in reples:\n",
    "        reple_list.append(reple.text.strip())\n",
    "        \n",
    "    for score in scores:\n",
    "        score_list.append(score.text.strip())"
   ]
  },
  {
   "cell_type": "code",
   "execution_count": 17,
   "id": "cad5b70c",
   "metadata": {},
   "outputs": [],
   "source": [
    "info = { 'score' : score_list, 'review' : reple_list}"
   ]
  },
  {
   "cell_type": "code",
   "execution_count": 18,
   "id": "8ecf3695",
   "metadata": {},
   "outputs": [],
   "source": [
    "df = pd.DataFrame(info)"
   ]
  },
  {
   "cell_type": "code",
   "execution_count": 19,
   "id": "3b5bc6dc",
   "metadata": {},
   "outputs": [
    {
     "data": {
      "text/html": [
       "<div>\n",
       "<style scoped>\n",
       "    .dataframe tbody tr th:only-of-type {\n",
       "        vertical-align: middle;\n",
       "    }\n",
       "\n",
       "    .dataframe tbody tr th {\n",
       "        vertical-align: top;\n",
       "    }\n",
       "\n",
       "    .dataframe thead th {\n",
       "        text-align: right;\n",
       "    }\n",
       "</style>\n",
       "<table border=\"1\" class=\"dataframe\">\n",
       "  <thead>\n",
       "    <tr style=\"text-align: right;\">\n",
       "      <th></th>\n",
       "      <th>score</th>\n",
       "      <th>review</th>\n",
       "    </tr>\n",
       "  </thead>\n",
       "  <tbody>\n",
       "    <tr>\n",
       "      <th>0</th>\n",
       "      <td>1</td>\n",
       "      <td>물괴 창궐 게이트와 함께 한국영화의 르네상스라는 미친X들에게 꼭 보여주고 싶은 영화...</td>\n",
       "    </tr>\n",
       "    <tr>\n",
       "      <th>1</th>\n",
       "      <td>1</td>\n",
       "      <td>10분도 안 보고 껐다. 예상이 가서</td>\n",
       "    </tr>\n",
       "    <tr>\n",
       "      <th>2</th>\n",
       "      <td>2</td>\n",
       "      <td>그냥... 보지마세요...</td>\n",
       "    </tr>\n",
       "    <tr>\n",
       "      <th>3</th>\n",
       "      <td>2</td>\n",
       "      <td>그래서 영화에서 뭘 말하고 싶은 건지...</td>\n",
       "    </tr>\n",
       "    <tr>\n",
       "      <th>4</th>\n",
       "      <td>4</td>\n",
       "      <td>OCN에서 갑자기 이시점에 손담비출연 엉화를 ~~~~</td>\n",
       "    </tr>\n",
       "    <tr>\n",
       "      <th>...</th>\n",
       "      <td>...</td>\n",
       "      <td>...</td>\n",
       "    </tr>\n",
       "    <tr>\n",
       "      <th>993</th>\n",
       "      <td>10</td>\n",
       "      <td>오랜만에 코메디 영화 너무 재밌네요~~ㅋ 신나게 웃고 즐기다 갑니다!!!</td>\n",
       "    </tr>\n",
       "    <tr>\n",
       "      <th>994</th>\n",
       "      <td>10</td>\n",
       "      <td>완전 배꼽잡고 깔깔 웃었어여 ㅋㅋㅋ 장미 만세!!!</td>\n",
       "    </tr>\n",
       "    <tr>\n",
       "      <th>995</th>\n",
       "      <td>10</td>\n",
       "      <td>담비누나 정말 팬이에요 너무 매력넘쳐요</td>\n",
       "    </tr>\n",
       "    <tr>\n",
       "      <th>996</th>\n",
       "      <td>9</td>\n",
       "      <td>원래 이런 영화는 웃기기만 하면됨</td>\n",
       "    </tr>\n",
       "    <tr>\n",
       "      <th>997</th>\n",
       "      <td>1</td>\n",
       "      <td>1점은 없나요... 재미없는 농담들의 향연</td>\n",
       "    </tr>\n",
       "  </tbody>\n",
       "</table>\n",
       "<p>998 rows × 2 columns</p>\n",
       "</div>"
      ],
      "text/plain": [
       "    score                                             review\n",
       "0       1  물괴 창궐 게이트와 함께 한국영화의 르네상스라는 미친X들에게 꼭 보여주고 싶은 영화...\n",
       "1       1                               10분도 안 보고 껐다. 예상이 가서\n",
       "2       2                                     그냥... 보지마세요...\n",
       "3       2                            그래서 영화에서 뭘 말하고 싶은 건지...\n",
       "4       4                      OCN에서 갑자기 이시점에 손담비출연 엉화를 ~~~~\n",
       "..    ...                                                ...\n",
       "993    10           오랜만에 코메디 영화 너무 재밌네요~~ㅋ 신나게 웃고 즐기다 갑니다!!!\n",
       "994    10                       완전 배꼽잡고 깔깔 웃었어여 ㅋㅋㅋ 장미 만세!!!\n",
       "995    10                              담비누나 정말 팬이에요 너무 매력넘쳐요\n",
       "996     9                                 원래 이런 영화는 웃기기만 하면됨\n",
       "997     1                            1점은 없나요... 재미없는 농담들의 향연\n",
       "\n",
       "[998 rows x 2 columns]"
      ]
     },
     "execution_count": 19,
     "metadata": {},
     "output_type": "execute_result"
    }
   ],
   "source": [
    "df"
   ]
  },
  {
   "cell_type": "code",
   "execution_count": 24,
   "id": "9c9e79e0",
   "metadata": {},
   "outputs": [],
   "source": [
    "df.to_csv('review_2.csv', encoding = 'CP949', index = False)"
   ]
  },
  {
   "cell_type": "code",
   "execution_count": 20,
   "id": "80756261",
   "metadata": {},
   "outputs": [
    {
     "data": {
      "text/plain": [
       "349"
      ]
     },
     "execution_count": 20,
     "metadata": {},
     "output_type": "execute_result"
    }
   ],
   "source": [
    "count = 0\n",
    "for x in df[\"score\"]:\n",
    "    if x=='1':\n",
    "        count+=1\n",
    "        \n",
    "count"
   ]
  },
  {
   "cell_type": "code",
   "execution_count": 21,
   "id": "12ac55ff",
   "metadata": {},
   "outputs": [
    {
     "data": {
      "text/plain": [
       "88"
      ]
     },
     "execution_count": 21,
     "metadata": {},
     "output_type": "execute_result"
    }
   ],
   "source": [
    "count = 0\n",
    "for x in df[\"score\"]:\n",
    "    if x=='2':\n",
    "        count+=1\n",
    "        \n",
    "count"
   ]
  },
  {
   "cell_type": "code",
   "execution_count": 22,
   "id": "e7d22935",
   "metadata": {},
   "outputs": [
    {
     "data": {
      "text/plain": [
       "21"
      ]
     },
     "execution_count": 22,
     "metadata": {},
     "output_type": "execute_result"
    }
   ],
   "source": [
    "count = 0\n",
    "for x in df[\"score\"]:\n",
    "    if x=='3':\n",
    "        count+=1\n",
    "        \n",
    "count"
   ]
  },
  {
   "cell_type": "code",
   "execution_count": 23,
   "id": "28844b60",
   "metadata": {},
   "outputs": [
    {
     "data": {
      "text/plain": [
       "35"
      ]
     },
     "execution_count": 23,
     "metadata": {},
     "output_type": "execute_result"
    }
   ],
   "source": [
    "count = 0\n",
    "for x in df[\"score\"]:\n",
    "    if x=='4':\n",
    "        count+=1\n",
    "        \n",
    "count"
   ]
  },
  {
   "cell_type": "code",
   "execution_count": 24,
   "id": "c44dd88d",
   "metadata": {},
   "outputs": [
    {
     "data": {
      "text/plain": [
       "12"
      ]
     },
     "execution_count": 24,
     "metadata": {},
     "output_type": "execute_result"
    }
   ],
   "source": [
    "count = 0\n",
    "for x in df[\"score\"]:\n",
    "    if x=='5':\n",
    "        count+=1\n",
    "        \n",
    "count"
   ]
  },
  {
   "cell_type": "code",
   "execution_count": 25,
   "id": "786f4095",
   "metadata": {},
   "outputs": [
    {
     "data": {
      "text/plain": [
       "35"
      ]
     },
     "execution_count": 25,
     "metadata": {},
     "output_type": "execute_result"
    }
   ],
   "source": [
    "count = 0\n",
    "for x in df[\"score\"]:\n",
    "    if x=='6':\n",
    "        count+=1\n",
    "        \n",
    "count"
   ]
  },
  {
   "cell_type": "code",
   "execution_count": 26,
   "id": "09741c8d",
   "metadata": {},
   "outputs": [
    {
     "data": {
      "text/plain": [
       "17"
      ]
     },
     "execution_count": 26,
     "metadata": {},
     "output_type": "execute_result"
    }
   ],
   "source": [
    "count = 0\n",
    "for x in df[\"score\"]:\n",
    "    if x=='7':\n",
    "        count+=1\n",
    "        \n",
    "count"
   ]
  },
  {
   "cell_type": "code",
   "execution_count": 27,
   "id": "e63437f5",
   "metadata": {},
   "outputs": [
    {
     "data": {
      "text/plain": [
       "104"
      ]
     },
     "execution_count": 27,
     "metadata": {},
     "output_type": "execute_result"
    }
   ],
   "source": [
    "count = 0\n",
    "for x in df[\"score\"]:\n",
    "    if x=='8':\n",
    "        count+=1\n",
    "        \n",
    "count"
   ]
  },
  {
   "cell_type": "code",
   "execution_count": 28,
   "id": "b1157bcf",
   "metadata": {},
   "outputs": [
    {
     "data": {
      "text/plain": [
       "58"
      ]
     },
     "execution_count": 28,
     "metadata": {},
     "output_type": "execute_result"
    }
   ],
   "source": [
    "count = 0\n",
    "for x in df[\"score\"]:\n",
    "    if x=='9':\n",
    "        count+=1\n",
    "        \n",
    "count"
   ]
  },
  {
   "cell_type": "code",
   "execution_count": 29,
   "id": "02d2107d",
   "metadata": {},
   "outputs": [
    {
     "data": {
      "text/plain": [
       "279"
      ]
     },
     "execution_count": 29,
     "metadata": {},
     "output_type": "execute_result"
    }
   ],
   "source": [
    "count = 0\n",
    "for x in df[\"score\"]:\n",
    "    if x=='10':\n",
    "        count+=1\n",
    "        \n",
    "count"
   ]
  },
  {
   "cell_type": "code",
   "execution_count": null,
   "id": "bb597241",
   "metadata": {},
   "outputs": [],
   "source": []
  }
 ],
 "metadata": {
  "kernelspec": {
   "display_name": "Python 3 (ipykernel)",
   "language": "python",
   "name": "python3"
  },
  "language_info": {
   "codemirror_mode": {
    "name": "ipython",
    "version": 3
   },
   "file_extension": ".py",
   "mimetype": "text/x-python",
   "name": "python",
   "nbconvert_exporter": "python",
   "pygments_lexer": "ipython3",
   "version": "3.8.12"
  },
  "toc": {
   "base_numbering": 1,
   "nav_menu": {},
   "number_sections": true,
   "sideBar": true,
   "skip_h1_title": false,
   "title_cell": "Table of Contents",
   "title_sidebar": "Contents",
   "toc_cell": false,
   "toc_position": {},
   "toc_section_display": true,
   "toc_window_display": false
  }
 },
 "nbformat": 4,
 "nbformat_minor": 5
}
