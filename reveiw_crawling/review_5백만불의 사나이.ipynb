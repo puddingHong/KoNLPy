{
 "cells": [
  {
   "cell_type": "code",
   "execution_count": 2,
   "id": "d1933d52",
   "metadata": {},
   "outputs": [],
   "source": [
    "import requests as req\n",
    "from bs4 import BeautifulSoup as bs\n",
    "import pandas as pd"
   ]
  },
  {
   "cell_type": "code",
   "execution_count": 3,
   "id": "27937b8c",
   "metadata": {},
   "outputs": [],
   "source": [
    "reple_list = []\n",
    "score_list = []\n",
    "for page in range(1, 101) :\n",
    "    \n",
    "    url ='https://movie.naver.com/movie/bi/mi/pointWriteFormList.naver?code=88237&type=after&onlyActualPointYn=N&onlySpoilerPointYn=N&order=newest&page='+str(page)\n",
    "    res = req.get(url)\n",
    "    soup = bs(res.text, 'lxml')\n",
    "    \n",
    "    # 댓글 영역 선택\n",
    "    reples = soup.select('div.score_reple > p')\n",
    "    \n",
    "    # 평점 영역 선택\n",
    "    scores = soup.select('div.star_score > em')\n",
    "    \n",
    "    # 관람객 선택, 제거\n",
    "    icon = soup.select('span.ico_viewer')\n",
    "    for viewer in icon:\n",
    "        viewer.extract()  \n",
    "        \n",
    "    # 스포일러 텍스트 선택, 제거\n",
    "    spo = soup.select('span.text_spo')\n",
    "    for spo_text in spo:\n",
    "        spo_text.extract()\n",
    "    \n",
    "    for reple in reples:\n",
    "        reple_list.append(reple.text.strip())\n",
    "        \n",
    "    for score in scores:\n",
    "        score_list.append(score.text.strip())"
   ]
  },
  {
   "cell_type": "code",
   "execution_count": 4,
   "id": "cad5b70c",
   "metadata": {},
   "outputs": [],
   "source": [
    "info = { 'score' : score_list, 'review' : reple_list}"
   ]
  },
  {
   "cell_type": "code",
   "execution_count": 5,
   "id": "8ecf3695",
   "metadata": {},
   "outputs": [],
   "source": [
    "df = pd.DataFrame(info)"
   ]
  },
  {
   "cell_type": "code",
   "execution_count": 6,
   "id": "3b5bc6dc",
   "metadata": {},
   "outputs": [
    {
     "data": {
      "text/html": [
       "<div>\n",
       "<style scoped>\n",
       "    .dataframe tbody tr th:only-of-type {\n",
       "        vertical-align: middle;\n",
       "    }\n",
       "\n",
       "    .dataframe tbody tr th {\n",
       "        vertical-align: top;\n",
       "    }\n",
       "\n",
       "    .dataframe thead th {\n",
       "        text-align: right;\n",
       "    }\n",
       "</style>\n",
       "<table border=\"1\" class=\"dataframe\">\n",
       "  <thead>\n",
       "    <tr style=\"text-align: right;\">\n",
       "      <th></th>\n",
       "      <th>score</th>\n",
       "      <th>review</th>\n",
       "    </tr>\n",
       "  </thead>\n",
       "  <tbody>\n",
       "    <tr>\n",
       "      <th>0</th>\n",
       "      <td>1</td>\n",
       "      <td>우연한 기회에 보았다. 딱 반 조금넘게 보다 꺼버렸다. 진심 1점도 아깝다. 아무리...</td>\n",
       "    </tr>\n",
       "    <tr>\n",
       "      <th>1</th>\n",
       "      <td>4</td>\n",
       "      <td>이영화의 주인공이 박진영만아니었다면 ...ㅋㅋㅋ 1 ㅋㅋㅋ 2 ㅋㅋㅋ 3 ㅋㅋㅋ 4...</td>\n",
       "    </tr>\n",
       "    <tr>\n",
       "      <th>2</th>\n",
       "      <td>10</td>\n",
       "      <td>여기 100점 없냐??</td>\n",
       "    </tr>\n",
       "    <tr>\n",
       "      <th>3</th>\n",
       "      <td>10</td>\n",
       "      <td>올해 봤던 영화 중 단연 최고봉</td>\n",
       "    </tr>\n",
       "    <tr>\n",
       "      <th>4</th>\n",
       "      <td>1</td>\n",
       "      <td>부제 : 클레멘타인 2</td>\n",
       "    </tr>\n",
       "    <tr>\n",
       "      <th>...</th>\n",
       "      <td>...</td>\n",
       "      <td>...</td>\n",
       "    </tr>\n",
       "    <tr>\n",
       "      <th>995</th>\n",
       "      <td>10</td>\n",
       "      <td>박진영 표정이 너무 웃김ㅋㅋㅋㅋ</td>\n",
       "    </tr>\n",
       "    <tr>\n",
       "      <th>996</th>\n",
       "      <td>1</td>\n",
       "      <td>이런 영화가 제작될 수 있다는 것이 이 나라 영화계의 비극이다. (발연출)</td>\n",
       "    </tr>\n",
       "    <tr>\n",
       "      <th>997</th>\n",
       "      <td>1</td>\n",
       "      <td>진짜 비추.....짱잼없음</td>\n",
       "    </tr>\n",
       "    <tr>\n",
       "      <th>998</th>\n",
       "      <td>10</td>\n",
       "      <td>good~~</td>\n",
       "    </tr>\n",
       "    <tr>\n",
       "      <th>999</th>\n",
       "      <td>1</td>\n",
       "      <td>400명 ㅋㅋㅋㅋㅋㅋㅋㅋㅋㅋㅋㅋㅋㅋㅋㅋㅋㅋㅋㅋㅋ</td>\n",
       "    </tr>\n",
       "  </tbody>\n",
       "</table>\n",
       "<p>1000 rows × 2 columns</p>\n",
       "</div>"
      ],
      "text/plain": [
       "    score                                             review\n",
       "0       1  우연한 기회에 보았다. 딱 반 조금넘게 보다 꺼버렸다. 진심 1점도 아깝다. 아무리...\n",
       "1       4  이영화의 주인공이 박진영만아니었다면 ...ㅋㅋㅋ 1 ㅋㅋㅋ 2 ㅋㅋㅋ 3 ㅋㅋㅋ 4...\n",
       "2      10                                       여기 100점 없냐??\n",
       "3      10                                  올해 봤던 영화 중 단연 최고봉\n",
       "4       1                                       부제 : 클레멘타인 2\n",
       "..    ...                                                ...\n",
       "995    10                                  박진영 표정이 너무 웃김ㅋㅋㅋㅋ\n",
       "996     1          이런 영화가 제작될 수 있다는 것이 이 나라 영화계의 비극이다. (발연출)\n",
       "997     1                                     진짜 비추.....짱잼없음\n",
       "998    10                                             good~~\n",
       "999     1                         400명 ㅋㅋㅋㅋㅋㅋㅋㅋㅋㅋㅋㅋㅋㅋㅋㅋㅋㅋㅋㅋㅋ\n",
       "\n",
       "[1000 rows x 2 columns]"
      ]
     },
     "execution_count": 6,
     "metadata": {},
     "output_type": "execute_result"
    }
   ],
   "source": [
    "df"
   ]
  },
  {
   "cell_type": "code",
   "execution_count": 17,
   "id": "9c9e79e0",
   "metadata": {},
   "outputs": [],
   "source": [
    "df.to_csv('review_8.csv', encoding = 'CP949', index = False)"
   ]
  },
  {
   "cell_type": "code",
   "execution_count": 7,
   "id": "80756261",
   "metadata": {},
   "outputs": [
    {
     "data": {
      "text/plain": [
       "418"
      ]
     },
     "execution_count": 7,
     "metadata": {},
     "output_type": "execute_result"
    }
   ],
   "source": [
    "count = 0\n",
    "for x in df[\"score\"]:\n",
    "    if x=='1':\n",
    "        count+=1\n",
    "        \n",
    "count"
   ]
  },
  {
   "cell_type": "code",
   "execution_count": 8,
   "id": "12ac55ff",
   "metadata": {},
   "outputs": [
    {
     "data": {
      "text/plain": [
       "36"
      ]
     },
     "execution_count": 8,
     "metadata": {},
     "output_type": "execute_result"
    }
   ],
   "source": [
    "count = 0\n",
    "for x in df[\"score\"]:\n",
    "    if x=='2':\n",
    "        count+=1\n",
    "        \n",
    "count"
   ]
  },
  {
   "cell_type": "code",
   "execution_count": 9,
   "id": "e7d22935",
   "metadata": {},
   "outputs": [
    {
     "data": {
      "text/plain": [
       "44"
      ]
     },
     "execution_count": 9,
     "metadata": {},
     "output_type": "execute_result"
    }
   ],
   "source": [
    "count = 0\n",
    "for x in df[\"score\"]:\n",
    "    if x=='3':\n",
    "        count+=1\n",
    "        \n",
    "count"
   ]
  },
  {
   "cell_type": "code",
   "execution_count": 10,
   "id": "28844b60",
   "metadata": {},
   "outputs": [
    {
     "data": {
      "text/plain": [
       "34"
      ]
     },
     "execution_count": 10,
     "metadata": {},
     "output_type": "execute_result"
    }
   ],
   "source": [
    "count = 0\n",
    "for x in df[\"score\"]:\n",
    "    if x=='4':\n",
    "        count+=1\n",
    "        \n",
    "count"
   ]
  },
  {
   "cell_type": "code",
   "execution_count": 11,
   "id": "c44dd88d",
   "metadata": {},
   "outputs": [
    {
     "data": {
      "text/plain": [
       "42"
      ]
     },
     "execution_count": 11,
     "metadata": {},
     "output_type": "execute_result"
    }
   ],
   "source": [
    "count = 0\n",
    "for x in df[\"score\"]:\n",
    "    if x=='5':\n",
    "        count+=1\n",
    "        \n",
    "count"
   ]
  },
  {
   "cell_type": "code",
   "execution_count": 12,
   "id": "786f4095",
   "metadata": {},
   "outputs": [
    {
     "data": {
      "text/plain": [
       "33"
      ]
     },
     "execution_count": 12,
     "metadata": {},
     "output_type": "execute_result"
    }
   ],
   "source": [
    "count = 0\n",
    "for x in df[\"score\"]:\n",
    "    if x=='6':\n",
    "        count+=1\n",
    "        \n",
    "count"
   ]
  },
  {
   "cell_type": "code",
   "execution_count": 13,
   "id": "09741c8d",
   "metadata": {},
   "outputs": [
    {
     "data": {
      "text/plain": [
       "42"
      ]
     },
     "execution_count": 13,
     "metadata": {},
     "output_type": "execute_result"
    }
   ],
   "source": [
    "count = 0\n",
    "for x in df[\"score\"]:\n",
    "    if x=='7':\n",
    "        count+=1\n",
    "        \n",
    "count"
   ]
  },
  {
   "cell_type": "code",
   "execution_count": 14,
   "id": "e63437f5",
   "metadata": {},
   "outputs": [
    {
     "data": {
      "text/plain": [
       "51"
      ]
     },
     "execution_count": 14,
     "metadata": {},
     "output_type": "execute_result"
    }
   ],
   "source": [
    "count = 0\n",
    "for x in df[\"score\"]:\n",
    "    if x=='8':\n",
    "        count+=1\n",
    "        \n",
    "count"
   ]
  },
  {
   "cell_type": "code",
   "execution_count": 15,
   "id": "b1157bcf",
   "metadata": {},
   "outputs": [
    {
     "data": {
      "text/plain": [
       "37"
      ]
     },
     "execution_count": 15,
     "metadata": {},
     "output_type": "execute_result"
    }
   ],
   "source": [
    "count = 0\n",
    "for x in df[\"score\"]:\n",
    "    if x=='9':\n",
    "        count+=1\n",
    "        \n",
    "count"
   ]
  },
  {
   "cell_type": "code",
   "execution_count": 16,
   "id": "02d2107d",
   "metadata": {},
   "outputs": [
    {
     "data": {
      "text/plain": [
       "263"
      ]
     },
     "execution_count": 16,
     "metadata": {},
     "output_type": "execute_result"
    }
   ],
   "source": [
    "count = 0\n",
    "for x in df[\"score\"]:\n",
    "    if x=='10':\n",
    "        count+=1\n",
    "        \n",
    "count"
   ]
  },
  {
   "cell_type": "code",
   "execution_count": null,
   "id": "baebcbae",
   "metadata": {},
   "outputs": [],
   "source": []
  }
 ],
 "metadata": {
  "kernelspec": {
   "display_name": "Python 3 (ipykernel)",
   "language": "python",
   "name": "python3"
  },
  "language_info": {
   "codemirror_mode": {
    "name": "ipython",
    "version": 3
   },
   "file_extension": ".py",
   "mimetype": "text/x-python",
   "name": "python",
   "nbconvert_exporter": "python",
   "pygments_lexer": "ipython3",
   "version": "3.8.12"
  },
  "toc": {
   "base_numbering": 1,
   "nav_menu": {},
   "number_sections": true,
   "sideBar": true,
   "skip_h1_title": false,
   "title_cell": "Table of Contents",
   "title_sidebar": "Contents",
   "toc_cell": false,
   "toc_position": {},
   "toc_section_display": true,
   "toc_window_display": false
  }
 },
 "nbformat": 4,
 "nbformat_minor": 5
}
