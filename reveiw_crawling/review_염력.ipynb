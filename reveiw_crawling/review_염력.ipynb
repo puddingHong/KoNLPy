{
 "cells": [
  {
   "cell_type": "code",
   "execution_count": 1,
   "id": "d1933d52",
   "metadata": {},
   "outputs": [],
   "source": [
    "import requests as req\n",
    "from bs4 import BeautifulSoup as bs\n",
    "import pandas as pd"
   ]
  },
  {
   "cell_type": "code",
   "execution_count": 16,
   "id": "27937b8c",
   "metadata": {},
   "outputs": [],
   "source": [
    "reple_list = []\n",
    "score_list = []\n",
    "for page in range(1, 101) :\n",
    "    \n",
    "    url ='https://movie.naver.com/movie/bi/mi/pointWriteFormList.naver?code=153651&type=after&onlyActualPointYn=N&onlySpoilerPointYn=N&order=newest&page='+str(page)\n",
    "    res = req.get(url)\n",
    "    soup = bs(res.text, 'lxml')\n",
    "    \n",
    "    # 댓글 영역 선택\n",
    "    reples = soup.select('div.score_reple > p')\n",
    "    \n",
    "    # 평점 영역 선택\n",
    "    scores = soup.select('div.star_score > em')\n",
    "    \n",
    "    # 관람객 선택, 제거\n",
    "    icon = soup.select('span.ico_viewer')\n",
    "    for viewer in icon:\n",
    "        viewer.extract()  \n",
    "        \n",
    "    # 스포일러 텍스트 선택, 제거\n",
    "    spo = soup.select('span.text_spo')\n",
    "    for spo_text in spo:\n",
    "        spo_text.extract()\n",
    "    \n",
    "    for reple in reples:\n",
    "        reple_list.append(reple.text.strip())\n",
    "        \n",
    "    for score in scores:\n",
    "        score_list.append(score.text.strip())"
   ]
  },
  {
   "cell_type": "code",
   "execution_count": 17,
   "id": "cad5b70c",
   "metadata": {},
   "outputs": [],
   "source": [
    "info = { 'score' : score_list, 'review' : reple_list}"
   ]
  },
  {
   "cell_type": "code",
   "execution_count": 18,
   "id": "8ecf3695",
   "metadata": {},
   "outputs": [],
   "source": [
    "df = pd.DataFrame(info)"
   ]
  },
  {
   "cell_type": "code",
   "execution_count": 19,
   "id": "3b5bc6dc",
   "metadata": {},
   "outputs": [
    {
     "data": {
      "text/html": [
       "<div>\n",
       "<style scoped>\n",
       "    .dataframe tbody tr th:only-of-type {\n",
       "        vertical-align: middle;\n",
       "    }\n",
       "\n",
       "    .dataframe tbody tr th {\n",
       "        vertical-align: top;\n",
       "    }\n",
       "\n",
       "    .dataframe thead th {\n",
       "        text-align: right;\n",
       "    }\n",
       "</style>\n",
       "<table border=\"1\" class=\"dataframe\">\n",
       "  <thead>\n",
       "    <tr style=\"text-align: right;\">\n",
       "      <th></th>\n",
       "      <th>score</th>\n",
       "      <th>review</th>\n",
       "    </tr>\n",
       "  </thead>\n",
       "  <tbody>\n",
       "    <tr>\n",
       "      <th>0</th>\n",
       "      <td>8</td>\n",
       "      <td>욕먹을 만한 영화 아닌거 같은데 뭐지? 정유미만 별로고 다 괜찮은데</td>\n",
       "    </tr>\n",
       "    <tr>\n",
       "      <th>1</th>\n",
       "      <td>1</td>\n",
       "      <td>영화관에서 돈내고 봐서 평생 후회할거같던영화</td>\n",
       "    </tr>\n",
       "    <tr>\n",
       "      <th>2</th>\n",
       "      <td>10</td>\n",
       "      <td>감독믿고 봤더니 역시나… 이런 영화가 왜 노잼으로 소문이 났는지 안타깝다사회이슈가 ...</td>\n",
       "    </tr>\n",
       "    <tr>\n",
       "      <th>3</th>\n",
       "      <td>10</td>\n",
       "      <td>재밌었어요 후반에 너무 감동이었습니다ㅠ꼭 보세요!!</td>\n",
       "    </tr>\n",
       "    <tr>\n",
       "      <th>4</th>\n",
       "      <td>6</td>\n",
       "      <td>감독이 저런 염력 갖고 싶었나 봄. 스토리가 너무 뻔하고 비현실적임</td>\n",
       "    </tr>\n",
       "    <tr>\n",
       "      <th>...</th>\n",
       "      <td>...</td>\n",
       "      <td>...</td>\n",
       "    </tr>\n",
       "    <tr>\n",
       "      <th>995</th>\n",
       "      <td>6</td>\n",
       "      <td>음... 광고전공인데요 CG가 너무 자연스러워서 까암짝 놀랐습니다 하하</td>\n",
       "    </tr>\n",
       "    <tr>\n",
       "      <th>996</th>\n",
       "      <td>10</td>\n",
       "      <td>봇셍ㆍ딛ㅅ진싣ㅈㄱㅅㄱㆍㅅㄱ</td>\n",
       "    </tr>\n",
       "    <tr>\n",
       "      <th>997</th>\n",
       "      <td>6</td>\n",
       "      <td>기대를 안 하고 봐서인지 나름 재밌었던 영화</td>\n",
       "    </tr>\n",
       "    <tr>\n",
       "      <th>998</th>\n",
       "      <td>3</td>\n",
       "      <td>보는 내내 답답해서 중간중간 치는 개그가 불편하고 재미없는 영화였습니다.</td>\n",
       "    </tr>\n",
       "    <tr>\n",
       "      <th>999</th>\n",
       "      <td>8</td>\n",
       "      <td>초반에는 지루한 감이 잇었는데. 용산사건 생각나면서. 현실은 얼마나 끔찍한데. 저런...</td>\n",
       "    </tr>\n",
       "  </tbody>\n",
       "</table>\n",
       "<p>1000 rows × 2 columns</p>\n",
       "</div>"
      ],
      "text/plain": [
       "    score                                             review\n",
       "0       8              욕먹을 만한 영화 아닌거 같은데 뭐지? 정유미만 별로고 다 괜찮은데\n",
       "1       1                           영화관에서 돈내고 봐서 평생 후회할거같던영화\n",
       "2      10  감독믿고 봤더니 역시나… 이런 영화가 왜 노잼으로 소문이 났는지 안타깝다사회이슈가 ...\n",
       "3      10                       재밌었어요 후반에 너무 감동이었습니다ㅠ꼭 보세요!!\n",
       "4       6              감독이 저런 염력 갖고 싶었나 봄. 스토리가 너무 뻔하고 비현실적임\n",
       "..    ...                                                ...\n",
       "995     6            음... 광고전공인데요 CG가 너무 자연스러워서 까암짝 놀랐습니다 하하\n",
       "996    10                                     봇셍ㆍ딛ㅅ진싣ㅈㄱㅅㄱㆍㅅㄱ\n",
       "997     6                           기대를 안 하고 봐서인지 나름 재밌었던 영화\n",
       "998     3           보는 내내 답답해서 중간중간 치는 개그가 불편하고 재미없는 영화였습니다.\n",
       "999     8  초반에는 지루한 감이 잇었는데. 용산사건 생각나면서. 현실은 얼마나 끔찍한데. 저런...\n",
       "\n",
       "[1000 rows x 2 columns]"
      ]
     },
     "execution_count": 19,
     "metadata": {},
     "output_type": "execute_result"
    }
   ],
   "source": [
    "df"
   ]
  },
  {
   "cell_type": "code",
   "execution_count": 30,
   "id": "9c9e79e0",
   "metadata": {},
   "outputs": [],
   "source": [
    "df.to_csv('review_7.csv', encoding = 'CP949', index = False)"
   ]
  },
  {
   "cell_type": "code",
   "execution_count": 20,
   "id": "80756261",
   "metadata": {},
   "outputs": [
    {
     "data": {
      "text/plain": [
       "391"
      ]
     },
     "execution_count": 20,
     "metadata": {},
     "output_type": "execute_result"
    }
   ],
   "source": [
    "count = 0\n",
    "for x in df[\"score\"]:\n",
    "    if x=='1':\n",
    "        count+=1\n",
    "        \n",
    "count"
   ]
  },
  {
   "cell_type": "code",
   "execution_count": 21,
   "id": "12ac55ff",
   "metadata": {},
   "outputs": [
    {
     "data": {
      "text/plain": [
       "105"
      ]
     },
     "execution_count": 21,
     "metadata": {},
     "output_type": "execute_result"
    }
   ],
   "source": [
    "count = 0\n",
    "for x in df[\"score\"]:\n",
    "    if x=='2':\n",
    "        count+=1\n",
    "        \n",
    "count"
   ]
  },
  {
   "cell_type": "code",
   "execution_count": 22,
   "id": "e7d22935",
   "metadata": {},
   "outputs": [
    {
     "data": {
      "text/plain": [
       "22"
      ]
     },
     "execution_count": 22,
     "metadata": {},
     "output_type": "execute_result"
    }
   ],
   "source": [
    "count = 0\n",
    "for x in df[\"score\"]:\n",
    "    if x=='3':\n",
    "        count+=1\n",
    "        \n",
    "count"
   ]
  },
  {
   "cell_type": "code",
   "execution_count": 23,
   "id": "28844b60",
   "metadata": {},
   "outputs": [
    {
     "data": {
      "text/plain": [
       "47"
      ]
     },
     "execution_count": 23,
     "metadata": {},
     "output_type": "execute_result"
    }
   ],
   "source": [
    "count = 0\n",
    "for x in df[\"score\"]:\n",
    "    if x=='4':\n",
    "        count+=1\n",
    "        \n",
    "count"
   ]
  },
  {
   "cell_type": "code",
   "execution_count": 24,
   "id": "c44dd88d",
   "metadata": {},
   "outputs": [
    {
     "data": {
      "text/plain": [
       "29"
      ]
     },
     "execution_count": 24,
     "metadata": {},
     "output_type": "execute_result"
    }
   ],
   "source": [
    "count = 0\n",
    "for x in df[\"score\"]:\n",
    "    if x=='5':\n",
    "        count+=1\n",
    "        \n",
    "count"
   ]
  },
  {
   "cell_type": "code",
   "execution_count": 25,
   "id": "786f4095",
   "metadata": {},
   "outputs": [
    {
     "data": {
      "text/plain": [
       "72"
      ]
     },
     "execution_count": 25,
     "metadata": {},
     "output_type": "execute_result"
    }
   ],
   "source": [
    "count = 0\n",
    "for x in df[\"score\"]:\n",
    "    if x=='6':\n",
    "        count+=1\n",
    "        \n",
    "count"
   ]
  },
  {
   "cell_type": "code",
   "execution_count": 26,
   "id": "09741c8d",
   "metadata": {},
   "outputs": [
    {
     "data": {
      "text/plain": [
       "35"
      ]
     },
     "execution_count": 26,
     "metadata": {},
     "output_type": "execute_result"
    }
   ],
   "source": [
    "count = 0\n",
    "for x in df[\"score\"]:\n",
    "    if x=='7':\n",
    "        count+=1\n",
    "        \n",
    "count"
   ]
  },
  {
   "cell_type": "code",
   "execution_count": 27,
   "id": "e63437f5",
   "metadata": {},
   "outputs": [
    {
     "data": {
      "text/plain": [
       "93"
      ]
     },
     "execution_count": 27,
     "metadata": {},
     "output_type": "execute_result"
    }
   ],
   "source": [
    "count = 0\n",
    "for x in df[\"score\"]:\n",
    "    if x=='8':\n",
    "        count+=1\n",
    "        \n",
    "count"
   ]
  },
  {
   "cell_type": "code",
   "execution_count": 28,
   "id": "b1157bcf",
   "metadata": {},
   "outputs": [
    {
     "data": {
      "text/plain": [
       "10"
      ]
     },
     "execution_count": 28,
     "metadata": {},
     "output_type": "execute_result"
    }
   ],
   "source": [
    "count = 0\n",
    "for x in df[\"score\"]:\n",
    "    if x=='9':\n",
    "        count+=1\n",
    "        \n",
    "count"
   ]
  },
  {
   "cell_type": "code",
   "execution_count": 29,
   "id": "02d2107d",
   "metadata": {},
   "outputs": [
    {
     "data": {
      "text/plain": [
       "196"
      ]
     },
     "execution_count": 29,
     "metadata": {},
     "output_type": "execute_result"
    }
   ],
   "source": [
    "count = 0\n",
    "for x in df[\"score\"]:\n",
    "    if x=='10':\n",
    "        count+=1\n",
    "        \n",
    "count"
   ]
  },
  {
   "cell_type": "code",
   "execution_count": null,
   "id": "ced8d59c",
   "metadata": {},
   "outputs": [],
   "source": []
  }
 ],
 "metadata": {
  "kernelspec": {
   "display_name": "Python 3 (ipykernel)",
   "language": "python",
   "name": "python3"
  },
  "language_info": {
   "codemirror_mode": {
    "name": "ipython",
    "version": 3
   },
   "file_extension": ".py",
   "mimetype": "text/x-python",
   "name": "python",
   "nbconvert_exporter": "python",
   "pygments_lexer": "ipython3",
   "version": "3.8.12"
  },
  "toc": {
   "base_numbering": 1,
   "nav_menu": {},
   "number_sections": true,
   "sideBar": true,
   "skip_h1_title": false,
   "title_cell": "Table of Contents",
   "title_sidebar": "Contents",
   "toc_cell": false,
   "toc_position": {},
   "toc_section_display": true,
   "toc_window_display": false
  }
 },
 "nbformat": 4,
 "nbformat_minor": 5
}
