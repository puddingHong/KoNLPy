{
 "cells": [
  {
   "cell_type": "code",
   "execution_count": 1,
   "id": "5fd0c591",
   "metadata": {
    "ExecuteTime": {
     "end_time": "2022-01-29T04:23:18.835329Z",
     "start_time": "2022-01-29T04:23:17.975526Z"
    }
   },
   "outputs": [],
   "source": [
    "import pandas as pd"
   ]
  },
  {
   "cell_type": "code",
   "execution_count": 2,
   "id": "4b4a5671",
   "metadata": {
    "ExecuteTime": {
     "end_time": "2022-01-29T04:23:18.961006Z",
     "start_time": "2022-01-29T04:23:18.835329Z"
    }
   },
   "outputs": [],
   "source": [
    "a = pd.read_csv('./review_1.csv', encoding = 'CP949')\n",
    "b = pd.read_csv('./review_2.csv', encoding = 'CP949')\n",
    "c = pd.read_csv('./review_3.csv', encoding = 'CP949')\n",
    "d = pd.read_csv('./review_4.csv', encoding = 'CP949')\n",
    "e = pd.read_csv('./review_5.csv', encoding = 'CP949')\n",
    "f = pd.read_csv('./review_6.csv', encoding = 'CP949')\n",
    "g = pd.read_csv('./review_7.csv', encoding = 'CP949')\n",
    "h = pd.read_csv('./review_8.csv', encoding = 'CP949')\n",
    "i = pd.read_csv('./review_9.csv', encoding = 'CP949')\n",
    "j = pd.read_csv('./review_10.csv', encoding = 'CP949')"
   ]
  },
  {
   "cell_type": "code",
   "execution_count": 3,
   "id": "c81e872e",
   "metadata": {
    "ExecuteTime": {
     "end_time": "2022-01-29T04:23:19.024835Z",
     "start_time": "2022-01-29T04:23:18.965000Z"
    },
    "scrolled": true
   },
   "outputs": [
    {
     "data": {
      "text/html": [
       "<div>\n",
       "<style scoped>\n",
       "    .dataframe tbody tr th:only-of-type {\n",
       "        vertical-align: middle;\n",
       "    }\n",
       "\n",
       "    .dataframe tbody tr th {\n",
       "        vertical-align: top;\n",
       "    }\n",
       "\n",
       "    .dataframe thead th {\n",
       "        text-align: right;\n",
       "    }\n",
       "</style>\n",
       "<table border=\"1\" class=\"dataframe\">\n",
       "  <thead>\n",
       "    <tr style=\"text-align: right;\">\n",
       "      <th></th>\n",
       "      <th>score</th>\n",
       "      <th>review</th>\n",
       "    </tr>\n",
       "  </thead>\n",
       "  <tbody>\n",
       "    <tr>\n",
       "      <th>0</th>\n",
       "      <td>8</td>\n",
       "      <td>전편을 안보면 이해가 안가는 부분이 많다는 것과 세밀한 설정으로 짜였던 구작과는 달...</td>\n",
       "    </tr>\n",
       "    <tr>\n",
       "      <th>1</th>\n",
       "      <td>4</td>\n",
       "      <td>역사의 뒤안길...구질구질한 또 하나의 회귀성. 상징과 표상의 반영은 어렵다</td>\n",
       "    </tr>\n",
       "    <tr>\n",
       "      <th>2</th>\n",
       "      <td>5</td>\n",
       "      <td>사실 매트릭스 3에서 내용이 종결되었는데 그걸 다시 4에서 연결 시키려고 엄청 수고...</td>\n",
       "    </tr>\n",
       "    <tr>\n",
       "      <th>3</th>\n",
       "      <td>7</td>\n",
       "      <td>나쁘지는 않게 봤다...</td>\n",
       "    </tr>\n",
       "    <tr>\n",
       "      <th>4</th>\n",
       "      <td>10</td>\n",
       "      <td>굿</td>\n",
       "    </tr>\n",
       "    <tr>\n",
       "      <th>...</th>\n",
       "      <td>...</td>\n",
       "      <td>...</td>\n",
       "    </tr>\n",
       "    <tr>\n",
       "      <th>995</th>\n",
       "      <td>1</td>\n",
       "      <td>뭘 해도 기본은 합시다, 이건 뭐 엉망진창도 정도껏 해야지</td>\n",
       "    </tr>\n",
       "    <tr>\n",
       "      <th>996</th>\n",
       "      <td>10</td>\n",
       "      <td>20대와 40대의 사랑에 대한 거부감에 사로잡히셨나 다들.. ㄷㄷ저는 개인적으로 재...</td>\n",
       "    </tr>\n",
       "    <tr>\n",
       "      <th>997</th>\n",
       "      <td>6</td>\n",
       "      <td>각본 좋았음. 대사. 디테일이 살아있음</td>\n",
       "    </tr>\n",
       "    <tr>\n",
       "      <th>998</th>\n",
       "      <td>10</td>\n",
       "      <td>괜찮은영화인데 젊은여자가 나이든사람울 좋아하는 현실에 없는 설정을 싫어하는 젊은 관...</td>\n",
       "    </tr>\n",
       "    <tr>\n",
       "      <th>999</th>\n",
       "      <td>1</td>\n",
       "      <td>진짜 올해 한국영화 망작 퍼레이드다.... 유해진 배우 참 좋아하는데..</td>\n",
       "    </tr>\n",
       "  </tbody>\n",
       "</table>\n",
       "<p>9998 rows × 2 columns</p>\n",
       "</div>"
      ],
      "text/plain": [
       "     score                                             review\n",
       "0        8  전편을 안보면 이해가 안가는 부분이 많다는 것과 세밀한 설정으로 짜였던 구작과는 달...\n",
       "1        4         역사의 뒤안길...구질구질한 또 하나의 회귀성. 상징과 표상의 반영은 어렵다\n",
       "2        5  사실 매트릭스 3에서 내용이 종결되었는데 그걸 다시 4에서 연결 시키려고 엄청 수고...\n",
       "3        7                                      나쁘지는 않게 봤다...\n",
       "4       10                                                  굿\n",
       "..     ...                                                ...\n",
       "995      1                   뭘 해도 기본은 합시다, 이건 뭐 엉망진창도 정도껏 해야지\n",
       "996     10  20대와 40대의 사랑에 대한 거부감에 사로잡히셨나 다들.. ㄷㄷ저는 개인적으로 재...\n",
       "997      6                              각본 좋았음. 대사. 디테일이 살아있음\n",
       "998     10  괜찮은영화인데 젊은여자가 나이든사람울 좋아하는 현실에 없는 설정을 싫어하는 젊은 관...\n",
       "999      1           진짜 올해 한국영화 망작 퍼레이드다.... 유해진 배우 참 좋아하는데..\n",
       "\n",
       "[9998 rows x 2 columns]"
      ]
     },
     "execution_count": 3,
     "metadata": {},
     "output_type": "execute_result"
    }
   ],
   "source": [
    "df = pd.concat([a,b,c,d,e,f,g,h,i,j])\n",
    "df"
   ]
  },
  {
   "cell_type": "code",
   "execution_count": 4,
   "id": "064662c4",
   "metadata": {
    "ExecuteTime": {
     "end_time": "2022-01-29T04:23:19.056749Z",
     "start_time": "2022-01-29T04:23:19.027827Z"
    }
   },
   "outputs": [
    {
     "data": {
      "text/plain": [
       "score       0\n",
       "review    272\n",
       "dtype: int64"
      ]
     },
     "execution_count": 4,
     "metadata": {},
     "output_type": "execute_result"
    }
   ],
   "source": [
    "df.isnull().sum()"
   ]
  },
  {
   "cell_type": "code",
   "execution_count": 5,
   "id": "15abc55f",
   "metadata": {
    "ExecuteTime": {
     "end_time": "2022-01-29T04:23:19.088664Z",
     "start_time": "2022-01-29T04:23:19.060741Z"
    }
   },
   "outputs": [
    {
     "data": {
      "text/plain": [
       "score     0\n",
       "review    0\n",
       "dtype: int64"
      ]
     },
     "execution_count": 5,
     "metadata": {},
     "output_type": "execute_result"
    }
   ],
   "source": [
    "df_sample = df.dropna()\n",
    "df_sample.isnull().sum()"
   ]
  },
  {
   "cell_type": "code",
   "execution_count": 6,
   "id": "71148ae1",
   "metadata": {
    "ExecuteTime": {
     "end_time": "2022-01-29T04:23:19.136537Z",
     "start_time": "2022-01-29T04:23:19.093653Z"
    },
    "scrolled": true
   },
   "outputs": [
    {
     "data": {
      "text/html": [
       "<div>\n",
       "<style scoped>\n",
       "    .dataframe tbody tr th:only-of-type {\n",
       "        vertical-align: middle;\n",
       "    }\n",
       "\n",
       "    .dataframe tbody tr th {\n",
       "        vertical-align: top;\n",
       "    }\n",
       "\n",
       "    .dataframe thead th {\n",
       "        text-align: right;\n",
       "    }\n",
       "</style>\n",
       "<table border=\"1\" class=\"dataframe\">\n",
       "  <thead>\n",
       "    <tr style=\"text-align: right;\">\n",
       "      <th></th>\n",
       "      <th>score</th>\n",
       "      <th>review</th>\n",
       "    </tr>\n",
       "  </thead>\n",
       "  <tbody>\n",
       "    <tr>\n",
       "      <th>0</th>\n",
       "      <td>8</td>\n",
       "      <td>전편을 안보면 이해가 안가는 부분이 많다는 것과 세밀한 설정으로 짜였던 구작과는 달...</td>\n",
       "    </tr>\n",
       "    <tr>\n",
       "      <th>1</th>\n",
       "      <td>4</td>\n",
       "      <td>역사의 뒤안길...구질구질한 또 하나의 회귀성. 상징과 표상의 반영은 어렵다</td>\n",
       "    </tr>\n",
       "    <tr>\n",
       "      <th>2</th>\n",
       "      <td>5</td>\n",
       "      <td>사실 매트릭스 3에서 내용이 종결되었는데 그걸 다시 4에서 연결 시키려고 엄청 수고...</td>\n",
       "    </tr>\n",
       "    <tr>\n",
       "      <th>3</th>\n",
       "      <td>7</td>\n",
       "      <td>나쁘지는 않게 봤다...</td>\n",
       "    </tr>\n",
       "    <tr>\n",
       "      <th>4</th>\n",
       "      <td>10</td>\n",
       "      <td>굿</td>\n",
       "    </tr>\n",
       "    <tr>\n",
       "      <th>...</th>\n",
       "      <td>...</td>\n",
       "      <td>...</td>\n",
       "    </tr>\n",
       "    <tr>\n",
       "      <th>995</th>\n",
       "      <td>1</td>\n",
       "      <td>뭘 해도 기본은 합시다, 이건 뭐 엉망진창도 정도껏 해야지</td>\n",
       "    </tr>\n",
       "    <tr>\n",
       "      <th>996</th>\n",
       "      <td>10</td>\n",
       "      <td>20대와 40대의 사랑에 대한 거부감에 사로잡히셨나 다들.. ㄷㄷ저는 개인적으로 재...</td>\n",
       "    </tr>\n",
       "    <tr>\n",
       "      <th>997</th>\n",
       "      <td>6</td>\n",
       "      <td>각본 좋았음. 대사. 디테일이 살아있음</td>\n",
       "    </tr>\n",
       "    <tr>\n",
       "      <th>998</th>\n",
       "      <td>10</td>\n",
       "      <td>괜찮은영화인데 젊은여자가 나이든사람울 좋아하는 현실에 없는 설정을 싫어하는 젊은 관...</td>\n",
       "    </tr>\n",
       "    <tr>\n",
       "      <th>999</th>\n",
       "      <td>1</td>\n",
       "      <td>진짜 올해 한국영화 망작 퍼레이드다.... 유해진 배우 참 좋아하는데..</td>\n",
       "    </tr>\n",
       "  </tbody>\n",
       "</table>\n",
       "<p>9726 rows × 2 columns</p>\n",
       "</div>"
      ],
      "text/plain": [
       "     score                                             review\n",
       "0        8  전편을 안보면 이해가 안가는 부분이 많다는 것과 세밀한 설정으로 짜였던 구작과는 달...\n",
       "1        4         역사의 뒤안길...구질구질한 또 하나의 회귀성. 상징과 표상의 반영은 어렵다\n",
       "2        5  사실 매트릭스 3에서 내용이 종결되었는데 그걸 다시 4에서 연결 시키려고 엄청 수고...\n",
       "3        7                                      나쁘지는 않게 봤다...\n",
       "4       10                                                  굿\n",
       "..     ...                                                ...\n",
       "995      1                   뭘 해도 기본은 합시다, 이건 뭐 엉망진창도 정도껏 해야지\n",
       "996     10  20대와 40대의 사랑에 대한 거부감에 사로잡히셨나 다들.. ㄷㄷ저는 개인적으로 재...\n",
       "997      6                              각본 좋았음. 대사. 디테일이 살아있음\n",
       "998     10  괜찮은영화인데 젊은여자가 나이든사람울 좋아하는 현실에 없는 설정을 싫어하는 젊은 관...\n",
       "999      1           진짜 올해 한국영화 망작 퍼레이드다.... 유해진 배우 참 좋아하는데..\n",
       "\n",
       "[9726 rows x 2 columns]"
      ]
     },
     "execution_count": 6,
     "metadata": {},
     "output_type": "execute_result"
    }
   ],
   "source": [
    "df_sample"
   ]
  },
  {
   "cell_type": "code",
   "execution_count": 7,
   "id": "398713b2",
   "metadata": {
    "ExecuteTime": {
     "end_time": "2022-01-29T04:23:19.151498Z",
     "start_time": "2022-01-29T04:23:19.141524Z"
    }
   },
   "outputs": [
    {
     "data": {
      "text/plain": [
       "5.789636027143739"
      ]
     },
     "execution_count": 7,
     "metadata": {},
     "output_type": "execute_result"
    }
   ],
   "source": [
    "df_sample['score'].mean()"
   ]
  },
  {
   "cell_type": "code",
   "execution_count": 8,
   "id": "c5278875",
   "metadata": {
    "ExecuteTime": {
     "end_time": "2022-01-29T04:23:21.195604Z",
     "start_time": "2022-01-29T04:23:19.156486Z"
    },
    "scrolled": false
   },
   "outputs": [
    {
     "data": {
      "text/plain": [
       "<AxesSubplot:>"
      ]
     },
     "execution_count": 8,
     "metadata": {},
     "output_type": "execute_result"
    },
    {
     "data": {
      "image/png": "[encoded data removed]",
      "text/plain": [
       "<Figure size 432x288 with 1 Axes>"
      ]
     },
     "metadata": {
      "needs_background": "light"
     },
     "output_type": "display_data"
    }
   ],
   "source": [
    "df_sample['score'].value_counts().plot(kind='bar')"
   ]
  },
  {
   "cell_type": "markdown",
   "id": "b4429943",
   "metadata": {},
   "source": [
    "위 차트에서 10점과 1점에 데이터가 편향되어있어 댓글 갯수 조절   \n",
    "10점, 1점, 8점, 2점, 6점 데이터 700개로 갯수 줄임"
   ]
  },
  {
   "cell_type": "code",
   "execution_count": 10,
   "id": "fedb6fd7",
   "metadata": {
    "ExecuteTime": {
     "end_time": "2022-01-29T04:23:53.487774Z",
     "start_time": "2022-01-29T04:23:53.459849Z"
    }
   },
   "outputs": [
    {
     "data": {
      "text/html": [
       "<div>\n",
       "<style scoped>\n",
       "    .dataframe tbody tr th:only-of-type {\n",
       "        vertical-align: middle;\n",
       "    }\n",
       "\n",
       "    .dataframe tbody tr th {\n",
       "        vertical-align: top;\n",
       "    }\n",
       "\n",
       "    .dataframe thead th {\n",
       "        text-align: right;\n",
       "    }\n",
       "</style>\n",
       "<table border=\"1\" class=\"dataframe\">\n",
       "  <thead>\n",
       "    <tr style=\"text-align: right;\">\n",
       "      <th></th>\n",
       "      <th>score</th>\n",
       "      <th>review</th>\n",
       "    </tr>\n",
       "  </thead>\n",
       "  <tbody>\n",
       "    <tr>\n",
       "      <th>223</th>\n",
       "      <td>1</td>\n",
       "      <td>최악의 쓰레기 영화</td>\n",
       "    </tr>\n",
       "    <tr>\n",
       "      <th>149</th>\n",
       "      <td>1</td>\n",
       "      <td>나를 화나게 만든영화</td>\n",
       "    </tr>\n",
       "    <tr>\n",
       "      <th>808</th>\n",
       "      <td>1</td>\n",
       "      <td>10점주는새끼들 뇌없냐 개념밥말나먹엇네 알바들은존나부끄럽지도않나 돈에영혼끼지팔놈들ㅉ...</td>\n",
       "    </tr>\n",
       "    <tr>\n",
       "      <th>362</th>\n",
       "      <td>1</td>\n",
       "      <td>감독님 그동안 무슨일이 있으셨던거에요? 이건 냉동캡슐에 있다 지금 깨어났다고 해도 ...</td>\n",
       "    </tr>\n",
       "    <tr>\n",
       "      <th>539</th>\n",
       "      <td>1</td>\n",
       "      <td>감독아 양심껏좀 살자!! 주겨버릴까!!</td>\n",
       "    </tr>\n",
       "    <tr>\n",
       "      <th>...</th>\n",
       "      <td>...</td>\n",
       "      <td>...</td>\n",
       "    </tr>\n",
       "    <tr>\n",
       "      <th>847</th>\n",
       "      <td>1</td>\n",
       "      <td>한지혜 별루</td>\n",
       "    </tr>\n",
       "    <tr>\n",
       "      <th>835</th>\n",
       "      <td>1</td>\n",
       "      <td>보는네네 답답하고 지루합니다</td>\n",
       "    </tr>\n",
       "    <tr>\n",
       "      <th>873</th>\n",
       "      <td>1</td>\n",
       "      <td>포스터만 보고 왠지 영화를 평가하게 되는 그런 영화 ㅋ</td>\n",
       "    </tr>\n",
       "    <tr>\n",
       "      <th>769</th>\n",
       "      <td>1</td>\n",
       "      <td>만원의 행복ㄷ이 아닌 불행을 느낄수 있음...</td>\n",
       "    </tr>\n",
       "    <tr>\n",
       "      <th>744</th>\n",
       "      <td>1</td>\n",
       "      <td>신이 아니였으면 뛰쳐나왔겠네-_- 하품계속나오고ㅠ돈아까움</td>\n",
       "    </tr>\n",
       "  </tbody>\n",
       "</table>\n",
       "<p>700 rows × 2 columns</p>\n",
       "</div>"
      ],
      "text/plain": [
       "     score                                             review\n",
       "223      1                                         최악의 쓰레기 영화\n",
       "149      1                                        나를 화나게 만든영화\n",
       "808      1  10점주는새끼들 뇌없냐 개념밥말나먹엇네 알바들은존나부끄럽지도않나 돈에영혼끼지팔놈들ㅉ...\n",
       "362      1  감독님 그동안 무슨일이 있으셨던거에요? 이건 냉동캡슐에 있다 지금 깨어났다고 해도 ...\n",
       "539      1                              감독아 양심껏좀 살자!! 주겨버릴까!!\n",
       "..     ...                                                ...\n",
       "847      1                                             한지혜 별루\n",
       "835      1                                    보는네네 답답하고 지루합니다\n",
       "873      1                     포스터만 보고 왠지 영화를 평가하게 되는 그런 영화 ㅋ\n",
       "769      1                          만원의 행복ㄷ이 아닌 불행을 느낄수 있음...\n",
       "744      1                    신이 아니였으면 뛰쳐나왔겠네-_- 하품계속나오고ㅠ돈아까움\n",
       "\n",
       "[700 rows x 2 columns]"
      ]
     },
     "execution_count": 10,
     "metadata": {},
     "output_type": "execute_result"
    }
   ],
   "source": [
    "df_11 = df_sample[df_sample['score'] == 1]\n",
    "df_1 = df_11.sample(700)\n",
    "df_1"
   ]
  },
  {
   "cell_type": "code",
   "execution_count": 13,
   "id": "0307ab61",
   "metadata": {
    "ExecuteTime": {
     "end_time": "2022-01-29T04:24:08.507187Z",
     "start_time": "2022-01-29T04:24:08.496214Z"
    }
   },
   "outputs": [],
   "source": [
    "df_22 = df_sample[df_sample['score'] == 2]\n",
    "df_2 = df_22.sample(700)"
   ]
  },
  {
   "cell_type": "code",
   "execution_count": 14,
   "id": "5d24a52b",
   "metadata": {
    "ExecuteTime": {
     "end_time": "2022-01-29T04:24:09.500148Z",
     "start_time": "2022-01-29T04:24:09.490174Z"
    }
   },
   "outputs": [],
   "source": [
    "df_66 = df_sample[df_sample['score'] == 6]\n",
    "df_6 = df_66.sample(700)"
   ]
  },
  {
   "cell_type": "code",
   "execution_count": 15,
   "id": "e707c38a",
   "metadata": {
    "ExecuteTime": {
     "end_time": "2022-01-29T04:24:21.913840Z",
     "start_time": "2022-01-29T04:24:21.898914Z"
    }
   },
   "outputs": [],
   "source": [
    "df_88 = df_sample[df_sample['score'] == 8]\n",
    "df_8 = df_88.sample(700)"
   ]
  },
  {
   "cell_type": "code",
   "execution_count": 16,
   "id": "3042f64c",
   "metadata": {
    "ExecuteTime": {
     "end_time": "2022-01-29T04:24:22.362283Z",
     "start_time": "2022-01-29T04:24:22.341334Z"
    }
   },
   "outputs": [],
   "source": [
    "df_1010 = df_sample[df_sample['score'] == 10]\n",
    "df_10 = df_1010.sample(700)"
   ]
  },
  {
   "cell_type": "code",
   "execution_count": 17,
   "id": "8d423702",
   "metadata": {
    "ExecuteTime": {
     "end_time": "2022-01-29T04:24:22.918744Z",
     "start_time": "2022-01-29T04:24:22.885832Z"
    }
   },
   "outputs": [
    {
     "data": {
      "text/html": [
       "<div>\n",
       "<style scoped>\n",
       "    .dataframe tbody tr th:only-of-type {\n",
       "        vertical-align: middle;\n",
       "    }\n",
       "\n",
       "    .dataframe tbody tr th {\n",
       "        vertical-align: top;\n",
       "    }\n",
       "\n",
       "    .dataframe thead th {\n",
       "        text-align: right;\n",
       "    }\n",
       "</style>\n",
       "<table border=\"1\" class=\"dataframe\">\n",
       "  <thead>\n",
       "    <tr style=\"text-align: right;\">\n",
       "      <th></th>\n",
       "      <th>score</th>\n",
       "      <th>review</th>\n",
       "    </tr>\n",
       "  </thead>\n",
       "  <tbody>\n",
       "    <tr>\n",
       "      <th>1</th>\n",
       "      <td>4</td>\n",
       "      <td>역사의 뒤안길...구질구질한 또 하나의 회귀성. 상징과 표상의 반영은 어렵다</td>\n",
       "    </tr>\n",
       "    <tr>\n",
       "      <th>2</th>\n",
       "      <td>5</td>\n",
       "      <td>사실 매트릭스 3에서 내용이 종결되었는데 그걸 다시 4에서 연결 시키려고 엄청 수고...</td>\n",
       "    </tr>\n",
       "    <tr>\n",
       "      <th>3</th>\n",
       "      <td>7</td>\n",
       "      <td>나쁘지는 않게 봤다...</td>\n",
       "    </tr>\n",
       "    <tr>\n",
       "      <th>5</th>\n",
       "      <td>7</td>\n",
       "      <td>대체 속편을 왜 만든거야?</td>\n",
       "    </tr>\n",
       "    <tr>\n",
       "      <th>9</th>\n",
       "      <td>7</td>\n",
       "      <td>그렇게 나쁘진 않음. 스토리도 괜찮은데. 액션이 좀 약한게 단점? 최악은 아님.</td>\n",
       "    </tr>\n",
       "    <tr>\n",
       "      <th>...</th>\n",
       "      <td>...</td>\n",
       "      <td>...</td>\n",
       "    </tr>\n",
       "    <tr>\n",
       "      <th>960</th>\n",
       "      <td>5</td>\n",
       "      <td>그냥저냥 킬링타임용 근데 이성경이 유해진좋아하는건 너무 막장</td>\n",
       "    </tr>\n",
       "    <tr>\n",
       "      <th>961</th>\n",
       "      <td>3</td>\n",
       "      <td>난 진짜 이성경 떔에 봤다 너무 매력적이야 ㅋㅋㅋ</td>\n",
       "    </tr>\n",
       "    <tr>\n",
       "      <th>981</th>\n",
       "      <td>3</td>\n",
       "      <td>스무살이 좋은 철없는 꼰대들(감독 포함 작가들)의 자기만족 스토리텔링</td>\n",
       "    </tr>\n",
       "    <tr>\n",
       "      <th>984</th>\n",
       "      <td>4</td>\n",
       "      <td>민감한 중년 로맨스를 그릴거면 제대로 그리던가 이도저도 아님</td>\n",
       "    </tr>\n",
       "    <tr>\n",
       "      <th>986</th>\n",
       "      <td>5</td>\n",
       "      <td>별점 5점은 이성경 때문에 준거임..막무가내...중구난방... 제목은 레슬러인데.....</td>\n",
       "    </tr>\n",
       "  </tbody>\n",
       "</table>\n",
       "<p>2171 rows × 2 columns</p>\n",
       "</div>"
      ],
      "text/plain": [
       "     score                                             review\n",
       "1        4         역사의 뒤안길...구질구질한 또 하나의 회귀성. 상징과 표상의 반영은 어렵다\n",
       "2        5  사실 매트릭스 3에서 내용이 종결되었는데 그걸 다시 4에서 연결 시키려고 엄청 수고...\n",
       "3        7                                      나쁘지는 않게 봤다...\n",
       "5        7                                     대체 속편을 왜 만든거야?\n",
       "9        7       그렇게 나쁘진 않음. 스토리도 괜찮은데. 액션이 좀 약한게 단점? 최악은 아님.\n",
       "..     ...                                                ...\n",
       "960      5                  그냥저냥 킬링타임용 근데 이성경이 유해진좋아하는건 너무 막장\n",
       "961      3                        난 진짜 이성경 떔에 봤다 너무 매력적이야 ㅋㅋㅋ\n",
       "981      3             스무살이 좋은 철없는 꼰대들(감독 포함 작가들)의 자기만족 스토리텔링\n",
       "984      4                  민감한 중년 로맨스를 그릴거면 제대로 그리던가 이도저도 아님\n",
       "986      5  별점 5점은 이성경 때문에 준거임..막무가내...중구난방... 제목은 레슬러인데.....\n",
       "\n",
       "[2171 rows x 2 columns]"
      ]
     },
     "execution_count": 17,
     "metadata": {},
     "output_type": "execute_result"
    }
   ],
   "source": [
    "df_new1  = df_sample[df_sample['score'].isin([3, 4, 5, 7, 9])]\n",
    "df_new1"
   ]
  },
  {
   "cell_type": "code",
   "execution_count": 18,
   "id": "d709129e",
   "metadata": {
    "ExecuteTime": {
     "end_time": "2022-01-29T04:24:24.917389Z",
     "start_time": "2022-01-29T04:24:24.881488Z"
    },
    "scrolled": true
   },
   "outputs": [
    {
     "data": {
      "text/html": [
       "<div>\n",
       "<style scoped>\n",
       "    .dataframe tbody tr th:only-of-type {\n",
       "        vertical-align: middle;\n",
       "    }\n",
       "\n",
       "    .dataframe tbody tr th {\n",
       "        vertical-align: top;\n",
       "    }\n",
       "\n",
       "    .dataframe thead th {\n",
       "        text-align: right;\n",
       "    }\n",
       "</style>\n",
       "<table border=\"1\" class=\"dataframe\">\n",
       "  <thead>\n",
       "    <tr style=\"text-align: right;\">\n",
       "      <th></th>\n",
       "      <th>score</th>\n",
       "      <th>review</th>\n",
       "    </tr>\n",
       "  </thead>\n",
       "  <tbody>\n",
       "    <tr>\n",
       "      <th>223</th>\n",
       "      <td>1</td>\n",
       "      <td>최악의 쓰레기 영화</td>\n",
       "    </tr>\n",
       "    <tr>\n",
       "      <th>149</th>\n",
       "      <td>1</td>\n",
       "      <td>나를 화나게 만든영화</td>\n",
       "    </tr>\n",
       "    <tr>\n",
       "      <th>808</th>\n",
       "      <td>1</td>\n",
       "      <td>10점주는새끼들 뇌없냐 개념밥말나먹엇네 알바들은존나부끄럽지도않나 돈에영혼끼지팔놈들ㅉ...</td>\n",
       "    </tr>\n",
       "    <tr>\n",
       "      <th>362</th>\n",
       "      <td>1</td>\n",
       "      <td>감독님 그동안 무슨일이 있으셨던거에요? 이건 냉동캡슐에 있다 지금 깨어났다고 해도 ...</td>\n",
       "    </tr>\n",
       "    <tr>\n",
       "      <th>539</th>\n",
       "      <td>1</td>\n",
       "      <td>감독아 양심껏좀 살자!! 주겨버릴까!!</td>\n",
       "    </tr>\n",
       "    <tr>\n",
       "      <th>...</th>\n",
       "      <td>...</td>\n",
       "      <td>...</td>\n",
       "    </tr>\n",
       "    <tr>\n",
       "      <th>960</th>\n",
       "      <td>5</td>\n",
       "      <td>그냥저냥 킬링타임용 근데 이성경이 유해진좋아하는건 너무 막장</td>\n",
       "    </tr>\n",
       "    <tr>\n",
       "      <th>961</th>\n",
       "      <td>3</td>\n",
       "      <td>난 진짜 이성경 떔에 봤다 너무 매력적이야 ㅋㅋㅋ</td>\n",
       "    </tr>\n",
       "    <tr>\n",
       "      <th>981</th>\n",
       "      <td>3</td>\n",
       "      <td>스무살이 좋은 철없는 꼰대들(감독 포함 작가들)의 자기만족 스토리텔링</td>\n",
       "    </tr>\n",
       "    <tr>\n",
       "      <th>984</th>\n",
       "      <td>4</td>\n",
       "      <td>민감한 중년 로맨스를 그릴거면 제대로 그리던가 이도저도 아님</td>\n",
       "    </tr>\n",
       "    <tr>\n",
       "      <th>986</th>\n",
       "      <td>5</td>\n",
       "      <td>별점 5점은 이성경 때문에 준거임..막무가내...중구난방... 제목은 레슬러인데.....</td>\n",
       "    </tr>\n",
       "  </tbody>\n",
       "</table>\n",
       "<p>5671 rows × 2 columns</p>\n",
       "</div>"
      ],
      "text/plain": [
       "     score                                             review\n",
       "223      1                                         최악의 쓰레기 영화\n",
       "149      1                                        나를 화나게 만든영화\n",
       "808      1  10점주는새끼들 뇌없냐 개념밥말나먹엇네 알바들은존나부끄럽지도않나 돈에영혼끼지팔놈들ㅉ...\n",
       "362      1  감독님 그동안 무슨일이 있으셨던거에요? 이건 냉동캡슐에 있다 지금 깨어났다고 해도 ...\n",
       "539      1                              감독아 양심껏좀 살자!! 주겨버릴까!!\n",
       "..     ...                                                ...\n",
       "960      5                  그냥저냥 킬링타임용 근데 이성경이 유해진좋아하는건 너무 막장\n",
       "961      3                        난 진짜 이성경 떔에 봤다 너무 매력적이야 ㅋㅋㅋ\n",
       "981      3             스무살이 좋은 철없는 꼰대들(감독 포함 작가들)의 자기만족 스토리텔링\n",
       "984      4                  민감한 중년 로맨스를 그릴거면 제대로 그리던가 이도저도 아님\n",
       "986      5  별점 5점은 이성경 때문에 준거임..막무가내...중구난방... 제목은 레슬러인데.....\n",
       "\n",
       "[5671 rows x 2 columns]"
      ]
     },
     "execution_count": 18,
     "metadata": {},
     "output_type": "execute_result"
    }
   ],
   "source": [
    "df_new = pd.concat([df_1, df_2, df_6, df_8, df_10, df_new1])\n",
    "df_new"
   ]
  },
  {
   "cell_type": "code",
   "execution_count": 19,
   "id": "f2dd04c4",
   "metadata": {
    "ExecuteTime": {
     "end_time": "2022-01-29T04:24:26.037780Z",
     "start_time": "2022-01-29T04:24:25.981953Z"
    }
   },
   "outputs": [],
   "source": [
    "df_new.to_csv('../new_data.csv', encoding = 'CP949', index = False)"
   ]
  },
  {
   "cell_type": "code",
   "execution_count": null,
   "id": "8b4f5528",
   "metadata": {},
   "outputs": [],
   "source": []
  }
 ],
 "metadata": {
  "kernelspec": {
   "display_name": "Python 3 (ipykernel)",
   "language": "python",
   "name": "python3"
  },
  "language_info": {
   "codemirror_mode": {
    "name": "ipython",
    "version": 3
   },
   "file_extension": ".py",
   "mimetype": "text/x-python",
   "name": "python",
   "nbconvert_exporter": "python",
   "pygments_lexer": "ipython3",
   "version": "3.8.12"
  },
  "toc": {
   "base_numbering": 1,
   "nav_menu": {},
   "number_sections": true,
   "sideBar": true,
   "skip_h1_title": false,
   "title_cell": "Table of Contents",
   "title_sidebar": "Contents",
   "toc_cell": false,
   "toc_position": {},
   "toc_section_display": true,
   "toc_window_display": false
  }
 },
 "nbformat": 4,
 "nbformat_minor": 5
}
